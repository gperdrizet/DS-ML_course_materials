{
 "cells": [
  {
   "cell_type": "markdown",
   "metadata": {},
   "source": [
    "# Natural language processing: spam detection"
   ]
  },
  {
   "cell_type": "code",
   "execution_count": 1,
   "metadata": {},
   "outputs": [],
   "source": [
    "# Handle imports up-front\n",
    "import regex as re\n",
    "import pandas as pd\n",
    "import matplotlib.pyplot as plt\n",
    "from statistics import mean \n",
    "from sklearn.model_selection import train_test_split\n",
    "from nltk import download\n",
    "from nltk.corpus import stopwords\n",
    "from nltk.stem import WordNetLemmatizer\n",
    "from sklearn.feature_extraction.text import TfidfVectorizer\n",
    "from sklearn.svm import SVC\n",
    "from sklearn.model_selection import GridSearchCV\n",
    "from utils import cross_val"
   ]
  },
  {
   "cell_type": "markdown",
   "metadata": {},
   "source": [
    "## 1. Data loading\n",
    "\n",
    "### 1.1. Load the data"
   ]
  },
  {
   "cell_type": "code",
   "execution_count": 2,
   "metadata": {},
   "outputs": [],
   "source": [
    "# Read csv file into dataframe\n",
    "data_df=pd.read_csv('https://raw.githubusercontent.com/4GeeksAcademy/NLP-project-tutorial/main/url_spam.csv')\n",
    "\n",
    "# Drop duplicates if any\n",
    "data_df.drop_duplicates(inplace=True)\n",
    "data_df.reset_index(inplace=True, drop=True)"
   ]
  },
  {
   "cell_type": "markdown",
   "metadata": {},
   "source": [
    "### 1.2. Inspect the data"
   ]
  },
  {
   "cell_type": "code",
   "execution_count": 3,
   "metadata": {},
   "outputs": [
    {
     "data": {
      "text/html": [
       "<div>\n",
       "<style scoped>\n",
       "    .dataframe tbody tr th:only-of-type {\n",
       "        vertical-align: middle;\n",
       "    }\n",
       "\n",
       "    .dataframe tbody tr th {\n",
       "        vertical-align: top;\n",
       "    }\n",
       "\n",
       "    .dataframe thead th {\n",
       "        text-align: right;\n",
       "    }\n",
       "</style>\n",
       "<table border=\"1\" class=\"dataframe\">\n",
       "  <thead>\n",
       "    <tr style=\"text-align: right;\">\n",
       "      <th></th>\n",
       "      <th>url</th>\n",
       "      <th>is_spam</th>\n",
       "    </tr>\n",
       "  </thead>\n",
       "  <tbody>\n",
       "    <tr>\n",
       "      <th>0</th>\n",
       "      <td>https://briefingday.us8.list-manage.com/unsubs...</td>\n",
       "      <td>True</td>\n",
       "    </tr>\n",
       "    <tr>\n",
       "      <th>1</th>\n",
       "      <td>https://www.hvper.com/</td>\n",
       "      <td>True</td>\n",
       "    </tr>\n",
       "    <tr>\n",
       "      <th>2</th>\n",
       "      <td>https://briefingday.com/m/v4n3i4f3</td>\n",
       "      <td>True</td>\n",
       "    </tr>\n",
       "    <tr>\n",
       "      <th>3</th>\n",
       "      <td>https://briefingday.com/n/20200618/m#commentform</td>\n",
       "      <td>False</td>\n",
       "    </tr>\n",
       "    <tr>\n",
       "      <th>4</th>\n",
       "      <td>https://briefingday.com/fan</td>\n",
       "      <td>True</td>\n",
       "    </tr>\n",
       "  </tbody>\n",
       "</table>\n",
       "</div>"
      ],
      "text/plain": [
       "                                                 url  is_spam\n",
       "0  https://briefingday.us8.list-manage.com/unsubs...     True\n",
       "1                             https://www.hvper.com/     True\n",
       "2                 https://briefingday.com/m/v4n3i4f3     True\n",
       "3   https://briefingday.com/n/20200618/m#commentform    False\n",
       "4                        https://briefingday.com/fan     True"
      ]
     },
     "execution_count": 3,
     "metadata": {},
     "output_type": "execute_result"
    }
   ],
   "source": [
    "data_df.head()"
   ]
  },
  {
   "cell_type": "code",
   "execution_count": 4,
   "metadata": {},
   "outputs": [
    {
     "name": "stdout",
     "output_type": "stream",
     "text": [
      "<class 'pandas.core.frame.DataFrame'>\n",
      "RangeIndex: 2369 entries, 0 to 2368\n",
      "Data columns (total 2 columns):\n",
      " #   Column   Non-Null Count  Dtype \n",
      "---  ------   --------------  ----- \n",
      " 0   url      2369 non-null   object\n",
      " 1   is_spam  2369 non-null   bool  \n",
      "dtypes: bool(1), object(1)\n",
      "memory usage: 20.9+ KB\n"
     ]
    }
   ],
   "source": [
    "data_df.info()"
   ]
  },
  {
   "cell_type": "markdown",
   "metadata": {},
   "source": [
    "### 1.3. Train-test split"
   ]
  },
  {
   "cell_type": "code",
   "execution_count": 5,
   "metadata": {},
   "outputs": [],
   "source": [
    "# Separate features from labels\n",
    "labels=data_df['is_spam']\n",
    "features=data_df.drop('is_spam', axis=1)\n",
    "\n",
    "# Encode the labels\n",
    "encoded_labels=labels.apply(lambda x: 1 if x else 0).astype(int)\n",
    "\n",
    "# Split the data into training and testing features and labels\n",
    "training_features, testing_features, encoded_training_labels, encoded_testing_labels=train_test_split(\n",
    "    features,\n",
    "    encoded_labels,\n",
    "    test_size=0.25,\n",
    "    random_state=315\n",
    ")"
   ]
  },
  {
   "cell_type": "markdown",
   "metadata": {},
   "source": [
    "## 2. EDA\n",
    "\n",
    "First, let's just take a look at how many 'spam' vs 'not spam' urls we have:"
   ]
  },
  {
   "cell_type": "code",
   "execution_count": 6,
   "metadata": {},
   "outputs": [
    {
     "name": "stdout",
     "output_type": "stream",
     "text": [
      "Training data is 10.6% spam urls.\n"
     ]
    }
   ],
   "source": [
    "percent_spam=(sum(encoded_training_labels) / len(encoded_training_labels)) * 100\n",
    "print(f'Training data is {percent_spam:.1f}% spam urls.')"
   ]
  },
  {
   "cell_type": "markdown",
   "metadata": {},
   "source": [
    "This is unbalanced, but not extremely so - we may not need to do anything with this information. But, it is good to keep it in mind as we work through EDA and modeling."
   ]
  },
  {
   "cell_type": "markdown",
   "metadata": {},
   "source": [
    "### 2.1. Text preprocessing"
   ]
  },
  {
   "cell_type": "code",
   "execution_count": 7,
   "metadata": {},
   "outputs": [
    {
     "data": {
      "text/html": [
       "<div>\n",
       "<style scoped>\n",
       "    .dataframe tbody tr th:only-of-type {\n",
       "        vertical-align: middle;\n",
       "    }\n",
       "\n",
       "    .dataframe tbody tr th {\n",
       "        vertical-align: top;\n",
       "    }\n",
       "\n",
       "    .dataframe thead th {\n",
       "        text-align: right;\n",
       "    }\n",
       "</style>\n",
       "<table border=\"1\" class=\"dataframe\">\n",
       "  <thead>\n",
       "    <tr style=\"text-align: right;\">\n",
       "      <th></th>\n",
       "      <th>url</th>\n",
       "    </tr>\n",
       "  </thead>\n",
       "  <tbody>\n",
       "    <tr>\n",
       "      <th>311</th>\n",
       "      <td>[s, nytimes, com, us, into, the, wild, bus, re...</td>\n",
       "    </tr>\n",
       "    <tr>\n",
       "      <th>2317</th>\n",
       "      <td>[s, digg, cmail, com, t, ptuurik, vkjjhbly, ih]</td>\n",
       "    </tr>\n",
       "    <tr>\n",
       "      <th>1953</th>\n",
       "      <td>[snarkmarket, com]</td>\n",
       "    </tr>\n",
       "    <tr>\n",
       "      <th>1872</th>\n",
       "      <td>[s, youtube, com, watch, d, u]</td>\n",
       "    </tr>\n",
       "    <tr>\n",
       "      <th>1752</th>\n",
       "      <td>[s, wired, com, story, amazon, shakes, self, d...</td>\n",
       "    </tr>\n",
       "  </tbody>\n",
       "</table>\n",
       "</div>"
      ],
      "text/plain": [
       "                                                    url\n",
       "311   [s, nytimes, com, us, into, the, wild, bus, re...\n",
       "2317    [s, digg, cmail, com, t, ptuurik, vkjjhbly, ih]\n",
       "1953                                 [snarkmarket, com]\n",
       "1872                     [s, youtube, com, watch, d, u]\n",
       "1752  [s, wired, com, story, amazon, shakes, self, d..."
      ]
     },
     "execution_count": 7,
     "metadata": {},
     "output_type": "execute_result"
    }
   ],
   "source": [
    "def preprocess_text(text):\n",
    "\n",
    "    # Remove any character that is not a letter (a-z) or white space ( )\n",
    "    text=re.sub(r'[^a-z ]', ' ', text)\n",
    "    \n",
    "    # Remove white spaces\n",
    "    text=re.sub(r'\\s+[a-zA-Z]\\s+', ' ', text)\n",
    "    text=re.sub(r'\\^[a-zA-Z]\\s+', ' ', text)\n",
    "\n",
    "    # Multiple white spaces into one\n",
    "    text=re.sub(r'\\s+', ' ', text.lower())\n",
    "\n",
    "    # Remove tags\n",
    "    text=re.sub('&lt;/?.*?&gt;',' &lt;&gt; ', text)\n",
    "\n",
    "    # Remove 'http', 'https' and 'www'\n",
    "    text=re.sub('http', '', text)\n",
    "    text=re.sub('https', '', text)\n",
    "    text=re.sub('www', '', text)\n",
    "\n",
    "    return text.split()\n",
    "\n",
    "training_features['url']=training_features['url'].apply(preprocess_text)\n",
    "training_features.head()"
   ]
  },
  {
   "cell_type": "markdown",
   "metadata": {},
   "source": [
    "### 2.2. Lematization"
   ]
  },
  {
   "cell_type": "code",
   "execution_count": 8,
   "metadata": {},
   "outputs": [
    {
     "name": "stderr",
     "output_type": "stream",
     "text": [
      "[nltk_data] Downloading package wordnet to\n",
      "[nltk_data]     /home/siderealyear/nltk_data...\n",
      "[nltk_data]   Package wordnet is already up-to-date!\n",
      "[nltk_data] Downloading package stopwords to\n",
      "[nltk_data]     /home/siderealyear/nltk_data...\n",
      "[nltk_data]   Package stopwords is already up-to-date!\n"
     ]
    },
    {
     "data": {
      "text/html": [
       "<div>\n",
       "<style scoped>\n",
       "    .dataframe tbody tr th:only-of-type {\n",
       "        vertical-align: middle;\n",
       "    }\n",
       "\n",
       "    .dataframe tbody tr th {\n",
       "        vertical-align: top;\n",
       "    }\n",
       "\n",
       "    .dataframe thead th {\n",
       "        text-align: right;\n",
       "    }\n",
       "</style>\n",
       "<table border=\"1\" class=\"dataframe\">\n",
       "  <thead>\n",
       "    <tr style=\"text-align: right;\">\n",
       "      <th></th>\n",
       "      <th>url</th>\n",
       "    </tr>\n",
       "  </thead>\n",
       "  <tbody>\n",
       "    <tr>\n",
       "      <th>311</th>\n",
       "      <td>[nytimes, wild, removed, html]</td>\n",
       "    </tr>\n",
       "    <tr>\n",
       "      <th>2317</th>\n",
       "      <td>[digg, cmail, ptuurik, vkjjhbly]</td>\n",
       "    </tr>\n",
       "    <tr>\n",
       "      <th>1953</th>\n",
       "      <td>[snarkmarket]</td>\n",
       "    </tr>\n",
       "    <tr>\n",
       "      <th>1872</th>\n",
       "      <td>[youtube, watch]</td>\n",
       "    </tr>\n",
       "    <tr>\n",
       "      <th>1752</th>\n",
       "      <td>[wired, story, amazon, shake, self, driving, r...</td>\n",
       "    </tr>\n",
       "  </tbody>\n",
       "</table>\n",
       "</div>"
      ],
      "text/plain": [
       "                                                    url\n",
       "311                      [nytimes, wild, removed, html]\n",
       "2317                   [digg, cmail, ptuurik, vkjjhbly]\n",
       "1953                                      [snarkmarket]\n",
       "1872                                   [youtube, watch]\n",
       "1752  [wired, story, amazon, shake, self, driving, r..."
      ]
     },
     "execution_count": 8,
     "metadata": {},
     "output_type": "execute_result"
    }
   ],
   "source": [
    "download('wordnet')\n",
    "lemmatizer=WordNetLemmatizer()\n",
    "\n",
    "download('stopwords')\n",
    "stop_words=stopwords.words('english')\n",
    "\n",
    "def lemmatize_text(words, lemmatizer=lemmatizer):\n",
    "    tokens=[lemmatizer.lemmatize(word) for word in words]\n",
    "    tokens=[word for word in tokens if word not in stop_words]\n",
    "    tokens = [word for word in tokens if len(word) > 3]\n",
    "    return tokens\n",
    "\n",
    "training_features['url']=training_features['url'].apply(lemmatize_text)\n",
    "training_features.head()"
   ]
  },
  {
   "cell_type": "markdown",
   "metadata": {},
   "source": [
    "### 2.3. URL length distribution"
   ]
  },
  {
   "cell_type": "code",
   "execution_count": 9,
   "metadata": {},
   "outputs": [
    {
     "data": {
      "image/png": "[encoded data removed]",
      "text/plain": [
       "<Figure size 640x480 with 1 Axes>"
      ]
     },
     "metadata": {},
     "output_type": "display_data"
    },
    {
     "name": "stdout",
     "output_type": "stream",
     "text": [
      "URL length mean: 6 tokens\n",
      "URL length min: 0 tokens\n",
      "URL length max: 21 tokens\n"
     ]
    }
   ],
   "source": [
    "# Get the lengths (in tokens)\n",
    "lengths=[len(url) for url in training_features['url'].tolist()]\n",
    "\n",
    "# Add it back to the data as a new feature\n",
    "training_features['url_len']=lengths\n",
    "\n",
    "plt.title('URL length distribution')\n",
    "plt.xlabel('Tokens')\n",
    "plt.ylabel('URLs')\n",
    "plt.hist(lengths, bins=25, color='black')\n",
    "plt.show()\n",
    "\n",
    "print(f'URL length mean: {mean(lengths):.0f} tokens')\n",
    "print(f'URL length min: {min(lengths):.0f} tokens')\n",
    "print(f'URL length max: {max(lengths):.0f} tokens')"
   ]
  },
  {
   "cell_type": "markdown",
   "metadata": {},
   "source": [
    "We have at least one URL with length zero after out text cleaning. Let's get rid of it."
   ]
  },
  {
   "cell_type": "code",
   "execution_count": 10,
   "metadata": {},
   "outputs": [],
   "source": [
    "# Add the labels back temporarily, so we can remove the corresponding label with url\n",
    "training_features['target']=encoded_training_labels\n",
    "training_features=training_features[training_features['url_len'] > 0]\n",
    "\n",
    "# Re-separate the features and labels\n",
    "encoded_training_labels=training_features['target']\n",
    "training_features.drop(['target'], axis=1, inplace=True)"
   ]
  },
  {
   "cell_type": "markdown",
   "metadata": {},
   "source": [
    "We also have some long urls, let's take a look at what they are and decide if we should exclude them."
   ]
  },
  {
   "cell_type": "code",
   "execution_count": 11,
   "metadata": {},
   "outputs": [
    {
     "data": {
      "text/html": [
       "<div>\n",
       "<style scoped>\n",
       "    .dataframe tbody tr th:only-of-type {\n",
       "        vertical-align: middle;\n",
       "    }\n",
       "\n",
       "    .dataframe tbody tr th {\n",
       "        vertical-align: top;\n",
       "    }\n",
       "\n",
       "    .dataframe thead th {\n",
       "        text-align: right;\n",
       "    }\n",
       "</style>\n",
       "<table border=\"1\" class=\"dataframe\">\n",
       "  <thead>\n",
       "    <tr style=\"text-align: right;\">\n",
       "      <th></th>\n",
       "      <th>url</th>\n",
       "      <th>url_len</th>\n",
       "    </tr>\n",
       "  </thead>\n",
       "  <tbody>\n",
       "    <tr>\n",
       "      <th>2159</th>\n",
       "      <td>[washingtonpost, politics, court, supreme, cou...</td>\n",
       "      <td>16</td>\n",
       "    </tr>\n",
       "    <tr>\n",
       "      <th>219</th>\n",
       "      <td>[judiciary, senate, press, release, chairman, ...</td>\n",
       "      <td>16</td>\n",
       "    </tr>\n",
       "    <tr>\n",
       "      <th>319</th>\n",
       "      <td>[reuters, article, stock, weekahead, wall, str...</td>\n",
       "      <td>16</td>\n",
       "    </tr>\n",
       "    <tr>\n",
       "      <th>1866</th>\n",
       "      <td>[washingtonpost, national, security, russian, ...</td>\n",
       "      <td>17</td>\n",
       "    </tr>\n",
       "    <tr>\n",
       "      <th>2334</th>\n",
       "      <td>[reuters, article, russia, putin, vote, russia...</td>\n",
       "      <td>16</td>\n",
       "    </tr>\n",
       "    <tr>\n",
       "      <th>2077</th>\n",
       "      <td>[blog, microsoft, blog, microsoft, launch, ini...</td>\n",
       "      <td>16</td>\n",
       "    </tr>\n",
       "    <tr>\n",
       "      <th>230</th>\n",
       "      <td>[tulsaworld, news, trump, tulsa, president, at...</td>\n",
       "      <td>16</td>\n",
       "    </tr>\n",
       "    <tr>\n",
       "      <th>914</th>\n",
       "      <td>[section, live, update, protest, racial, justi...</td>\n",
       "      <td>21</td>\n",
       "    </tr>\n",
       "    <tr>\n",
       "      <th>2160</th>\n",
       "      <td>[washingtonpost, politics, court, supreme, cou...</td>\n",
       "      <td>17</td>\n",
       "    </tr>\n",
       "    <tr>\n",
       "      <th>2319</th>\n",
       "      <td>[washingtonpost, world, europe, russia, prize,...</td>\n",
       "      <td>18</td>\n",
       "    </tr>\n",
       "  </tbody>\n",
       "</table>\n",
       "</div>"
      ],
      "text/plain": [
       "                                                    url  url_len\n",
       "2159  [washingtonpost, politics, court, supreme, cou...       16\n",
       "219   [judiciary, senate, press, release, chairman, ...       16\n",
       "319   [reuters, article, stock, weekahead, wall, str...       16\n",
       "1866  [washingtonpost, national, security, russian, ...       17\n",
       "2334  [reuters, article, russia, putin, vote, russia...       16\n",
       "2077  [blog, microsoft, blog, microsoft, launch, ini...       16\n",
       "230   [tulsaworld, news, trump, tulsa, president, at...       16\n",
       "914   [section, live, update, protest, racial, justi...       21\n",
       "2160  [washingtonpost, politics, court, supreme, cou...       17\n",
       "2319  [washingtonpost, world, europe, russia, prize,...       18"
      ]
     },
     "execution_count": 11,
     "metadata": {},
     "output_type": "execute_result"
    }
   ],
   "source": [
    "training_features[training_features['url_len'] > 15]"
   ]
  },
  {
   "cell_type": "markdown",
   "metadata": {},
   "source": [
    "These mostly look like news sites that pack a lot of article key words into the URL. You could accuse them of key-word stuffing for SEO/sensationalism, but these are not obviously 'junk' data points. Let's keep them in."
   ]
  },
  {
   "cell_type": "markdown",
   "metadata": {},
   "source": [
    "### 2.4. Vectorization"
   ]
  },
  {
   "cell_type": "code",
   "execution_count": 18,
   "metadata": {},
   "outputs": [
    {
     "name": "stdout",
     "output_type": "stream",
     "text": [
      "Encoded features shape: (1774, 386)\n"
     ]
    }
   ],
   "source": [
    "# Extract the tokenized URLs and join the individual lists\n",
    "tokens_list=training_features['url']\n",
    "tokens_list=[' '.join(tokens) for tokens in tokens_list]\n",
    "\n",
    "# Vectorize the URLs using TF-IDF\n",
    "vectorizer=TfidfVectorizer(max_features=5000, max_df=0.8, min_df=5)\n",
    "encoded_training_features=vectorizer.fit_transform(tokens_list).toarray()\n",
    "\n",
    "# Get the words from the vector model\n",
    "feature_names=vectorizer.get_feature_names_out()\n",
    "\n",
    "# Convert the training data word counts back into a dataframe\n",
    "encoded_training_features=pd.DataFrame(encoded_training_features, columns=feature_names)\n",
    "print(f'Encoded features shape: {encoded_training_features.shape}')"
   ]
  },
  {
   "cell_type": "code",
   "execution_count": 19,
   "metadata": {},
   "outputs": [
    {
     "data": {
      "text/html": [
       "<div>\n",
       "<style scoped>\n",
       "    .dataframe tbody tr th:only-of-type {\n",
       "        vertical-align: middle;\n",
       "    }\n",
       "\n",
       "    .dataframe tbody tr th {\n",
       "        vertical-align: top;\n",
       "    }\n",
       "\n",
       "    .dataframe thead th {\n",
       "        text-align: right;\n",
       "    }\n",
       "</style>\n",
       "<table border=\"1\" class=\"dataframe\">\n",
       "  <thead>\n",
       "    <tr style=\"text-align: right;\">\n",
       "      <th></th>\n",
       "      <th>abortion</th>\n",
       "      <th>account</th>\n",
       "      <th>action</th>\n",
       "      <th>administration</th>\n",
       "      <th>advertising</th>\n",
       "      <th>afghanistan</th>\n",
       "      <th>ahead</th>\n",
       "      <th>album</th>\n",
       "      <th>amazon</th>\n",
       "      <th>america</th>\n",
       "      <th>...</th>\n",
       "      <th>wordpress</th>\n",
       "      <th>work</th>\n",
       "      <th>worker</th>\n",
       "      <th>world</th>\n",
       "      <th>wwdc</th>\n",
       "      <th>year</th>\n",
       "      <th>york</th>\n",
       "      <th>youtu</th>\n",
       "      <th>youtube</th>\n",
       "      <th>zone</th>\n",
       "    </tr>\n",
       "  </thead>\n",
       "  <tbody>\n",
       "    <tr>\n",
       "      <th>0</th>\n",
       "      <td>0.0</td>\n",
       "      <td>0.0</td>\n",
       "      <td>0.0</td>\n",
       "      <td>0.0</td>\n",
       "      <td>0.0</td>\n",
       "      <td>0.0</td>\n",
       "      <td>0.0</td>\n",
       "      <td>0.0</td>\n",
       "      <td>0.00000</td>\n",
       "      <td>0.0</td>\n",
       "      <td>...</td>\n",
       "      <td>0.0</td>\n",
       "      <td>0.0</td>\n",
       "      <td>0.0</td>\n",
       "      <td>0.0</td>\n",
       "      <td>0.0</td>\n",
       "      <td>0.0</td>\n",
       "      <td>0.0</td>\n",
       "      <td>0.0</td>\n",
       "      <td>0.000000</td>\n",
       "      <td>0.0</td>\n",
       "    </tr>\n",
       "    <tr>\n",
       "      <th>1</th>\n",
       "      <td>0.0</td>\n",
       "      <td>0.0</td>\n",
       "      <td>0.0</td>\n",
       "      <td>0.0</td>\n",
       "      <td>0.0</td>\n",
       "      <td>0.0</td>\n",
       "      <td>0.0</td>\n",
       "      <td>0.0</td>\n",
       "      <td>0.00000</td>\n",
       "      <td>0.0</td>\n",
       "      <td>...</td>\n",
       "      <td>0.0</td>\n",
       "      <td>0.0</td>\n",
       "      <td>0.0</td>\n",
       "      <td>0.0</td>\n",
       "      <td>0.0</td>\n",
       "      <td>0.0</td>\n",
       "      <td>0.0</td>\n",
       "      <td>0.0</td>\n",
       "      <td>0.000000</td>\n",
       "      <td>0.0</td>\n",
       "    </tr>\n",
       "    <tr>\n",
       "      <th>2</th>\n",
       "      <td>0.0</td>\n",
       "      <td>0.0</td>\n",
       "      <td>0.0</td>\n",
       "      <td>0.0</td>\n",
       "      <td>0.0</td>\n",
       "      <td>0.0</td>\n",
       "      <td>0.0</td>\n",
       "      <td>0.0</td>\n",
       "      <td>0.00000</td>\n",
       "      <td>0.0</td>\n",
       "      <td>...</td>\n",
       "      <td>0.0</td>\n",
       "      <td>0.0</td>\n",
       "      <td>0.0</td>\n",
       "      <td>0.0</td>\n",
       "      <td>0.0</td>\n",
       "      <td>0.0</td>\n",
       "      <td>0.0</td>\n",
       "      <td>0.0</td>\n",
       "      <td>0.000000</td>\n",
       "      <td>0.0</td>\n",
       "    </tr>\n",
       "    <tr>\n",
       "      <th>3</th>\n",
       "      <td>0.0</td>\n",
       "      <td>0.0</td>\n",
       "      <td>0.0</td>\n",
       "      <td>0.0</td>\n",
       "      <td>0.0</td>\n",
       "      <td>0.0</td>\n",
       "      <td>0.0</td>\n",
       "      <td>0.0</td>\n",
       "      <td>0.00000</td>\n",
       "      <td>0.0</td>\n",
       "      <td>...</td>\n",
       "      <td>0.0</td>\n",
       "      <td>0.0</td>\n",
       "      <td>0.0</td>\n",
       "      <td>0.0</td>\n",
       "      <td>0.0</td>\n",
       "      <td>0.0</td>\n",
       "      <td>0.0</td>\n",
       "      <td>0.0</td>\n",
       "      <td>0.702264</td>\n",
       "      <td>0.0</td>\n",
       "    </tr>\n",
       "    <tr>\n",
       "      <th>4</th>\n",
       "      <td>0.0</td>\n",
       "      <td>0.0</td>\n",
       "      <td>0.0</td>\n",
       "      <td>0.0</td>\n",
       "      <td>0.0</td>\n",
       "      <td>0.0</td>\n",
       "      <td>0.0</td>\n",
       "      <td>0.0</td>\n",
       "      <td>0.41855</td>\n",
       "      <td>0.0</td>\n",
       "      <td>...</td>\n",
       "      <td>0.0</td>\n",
       "      <td>0.0</td>\n",
       "      <td>0.0</td>\n",
       "      <td>0.0</td>\n",
       "      <td>0.0</td>\n",
       "      <td>0.0</td>\n",
       "      <td>0.0</td>\n",
       "      <td>0.0</td>\n",
       "      <td>0.000000</td>\n",
       "      <td>0.0</td>\n",
       "    </tr>\n",
       "  </tbody>\n",
       "</table>\n",
       "<p>5 rows × 386 columns</p>\n",
       "</div>"
      ],
      "text/plain": [
       "   abortion  account  action  administration  advertising  afghanistan  ahead  \\\n",
       "0       0.0      0.0     0.0             0.0          0.0          0.0    0.0   \n",
       "1       0.0      0.0     0.0             0.0          0.0          0.0    0.0   \n",
       "2       0.0      0.0     0.0             0.0          0.0          0.0    0.0   \n",
       "3       0.0      0.0     0.0             0.0          0.0          0.0    0.0   \n",
       "4       0.0      0.0     0.0             0.0          0.0          0.0    0.0   \n",
       "\n",
       "   album   amazon  america  ...  wordpress  work  worker  world  wwdc  year  \\\n",
       "0    0.0  0.00000      0.0  ...        0.0   0.0     0.0    0.0   0.0   0.0   \n",
       "1    0.0  0.00000      0.0  ...        0.0   0.0     0.0    0.0   0.0   0.0   \n",
       "2    0.0  0.00000      0.0  ...        0.0   0.0     0.0    0.0   0.0   0.0   \n",
       "3    0.0  0.00000      0.0  ...        0.0   0.0     0.0    0.0   0.0   0.0   \n",
       "4    0.0  0.41855      0.0  ...        0.0   0.0     0.0    0.0   0.0   0.0   \n",
       "\n",
       "   york  youtu   youtube  zone  \n",
       "0   0.0    0.0  0.000000   0.0  \n",
       "1   0.0    0.0  0.000000   0.0  \n",
       "2   0.0    0.0  0.000000   0.0  \n",
       "3   0.0    0.0  0.702264   0.0  \n",
       "4   0.0    0.0  0.000000   0.0  \n",
       "\n",
       "[5 rows x 386 columns]"
      ]
     },
     "execution_count": 19,
     "metadata": {},
     "output_type": "execute_result"
    }
   ],
   "source": [
    "# Take a look...\n",
    "encoded_training_features.head()"
   ]
  },
  {
   "cell_type": "markdown",
   "metadata": {},
   "source": [
    "### 2.4. Mean TF-IDF value distribution"
   ]
  },
  {
   "cell_type": "code",
   "execution_count": 20,
   "metadata": {},
   "outputs": [
    {
     "data": {
      "image/png": "[encoded data removed]",
      "text/plain": [
       "<Figure size 640x480 with 1 Axes>"
      ]
     },
     "metadata": {},
     "output_type": "display_data"
    }
   ],
   "source": [
    "# Get the mean TF-IDF value for each feature\n",
    "feature_means=encoded_training_features.mean().tolist()\n",
    "\n",
    "plt.title('Mean TF-IDF distribution')\n",
    "plt.xlabel('Mean TF-IDF')\n",
    "plt.ylabel('Features')\n",
    "plt.hist(feature_means, bins=30, color='black')\n",
    "plt.show()"
   ]
  },
  {
   "cell_type": "markdown",
   "metadata": {},
   "source": [
    "There are a lot of features with zero or very small TF-IDF values. This is not super surprising, this type of data is often very sparse. We could try re-running the vectorization with a higher *min_df* cutoff, but I think we should just leave it alone for now."
   ]
  },
  {
   "cell_type": "markdown",
   "metadata": {},
   "source": [
    "## 3. SVM model\n",
    "\n",
    "### 3.1. Baseline model performance"
   ]
  },
  {
   "cell_type": "code",
   "execution_count": 21,
   "metadata": {},
   "outputs": [
    {
     "name": "stdout",
     "output_type": "stream",
     "text": [
      "Cross-validation accuracy: 93.63 +/- 1.03%\n"
     ]
    }
   ],
   "source": [
    "# Instantiate the support vector machine classifier with defaults\n",
    "baseline_model=SVC(random_state=315)\n",
    "\n",
    "# Cross-validate the default model on the encoded training data\n",
    "scores=cross_val(baseline_model, encoded_training_features, encoded_training_labels)\n",
    "\n",
    "# Save the baseline cross-validation scores for later\n",
    "results={'Baseline': scores}"
   ]
  },
  {
   "cell_type": "markdown",
   "metadata": {},
   "source": [
    "### 3.2. Hyperparameter optimization"
   ]
  },
  {
   "cell_type": "code",
   "execution_count": 22,
   "metadata": {},
   "outputs": [
    {
     "name": "stdout",
     "output_type": "stream",
     "text": [
      "Best hyperparameters: {'C': 1, 'degree': 3, 'gamma': 'scale', 'kernel': 'poly'}\n"
     ]
    }
   ],
   "source": [
    "# Set the hyperparameter search space\n",
    "hyperparameters = {\n",
    "    'C': [0.01, 0.1, 1, 10],\n",
    "    'kernel': ['linear', 'poly', 'rbf', 'sigmoid'],\n",
    "    'degree': [2, 3, 4],\n",
    "    'gamma': ['scale', 'auto']\n",
    "}\n",
    "\n",
    "# Instantiate a new model\n",
    "model=SVC(random_state=315)\n",
    "\n",
    "# Set up the grid search\n",
    "grid=GridSearchCV(model, hyperparameters, scoring='accuracy', cv=5, n_jobs=-1)\n",
    "\n",
    "# Run the search\n",
    "optimization_results=grid.fit(encoded_training_features, encoded_training_labels)\n",
    "\n",
    "print(f'Best hyperparameters: {grid.best_params_}')"
   ]
  },
  {
   "cell_type": "code",
   "execution_count": 17,
   "metadata": {},
   "outputs": [
    {
     "name": "stdout",
     "output_type": "stream",
     "text": [
      "Cross-validation accuracy: 91.09 +/- 1.50%\n"
     ]
    }
   ],
   "source": [
    "# Cross-validate the model with the winning hyperparameters\n",
    "optimized_model=SVC(**grid.best_params_, random_state=315)\n",
    "scores=cross_val(optimized_model, encoded_training_features, encoded_training_labels)\n",
    "\n",
    "# Save the baseline cross-validation scores for later\n",
    "results={'Optimized model': scores}"
   ]
  },
  {
   "cell_type": "markdown",
   "metadata": {},
   "source": [
    "## 4. Model evaluation"
   ]
  }
 ],
 "metadata": {
  "kernelspec": {
   "display_name": ".venv",
   "language": "python",
   "name": "python3"
  },
  "language_info": {
   "codemirror_mode": {
    "name": "ipython",
    "version": 3
   },
   "file_extension": ".py",
   "mimetype": "text/x-python",
   "name": "python",
   "nbconvert_exporter": "python",
   "pygments_lexer": "ipython3",
   "version": "3.8.10"
  },
  "orig_nbformat": 4
 },
 "nbformat": 4,
 "nbformat_minor": 2
}
