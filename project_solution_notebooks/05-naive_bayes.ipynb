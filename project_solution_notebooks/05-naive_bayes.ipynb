{
 "cells": [
  {
   "cell_type": "markdown",
   "metadata": {},
   "source": [
    "# Naive bayes classifier: Google Play Store reviews\n",
    "\n",
    "## 1. Data Loading"
   ]
  },
  {
   "cell_type": "code",
   "execution_count": 3,
   "metadata": {},
   "outputs": [],
   "source": [
    "# Handle import up-front\n",
    "import numpy as np\n",
    "import pandas as pd\n",
    "import matplotlib.pyplot as plt\n",
    "\n",
    "from statistics import mean\n",
    "from sklearn.decomposition import TruncatedSVD\n",
    "from sklearn.feature_extraction.text import CountVectorizer\n",
    "from sklearn.naive_bayes import MultinomialNB, GaussianNB, BernoulliNB\n",
    "from sklearn.model_selection import train_test_split\n",
    "\n",
    "from helper_functions.naive_bayes import cross_val"
   ]
  },
  {
   "cell_type": "markdown",
   "metadata": {},
   "source": [
    "### 1.1. Load the data"
   ]
  },
  {
   "cell_type": "code",
   "execution_count": 4,
   "metadata": {},
   "outputs": [],
   "source": [
    "# Load the data from the URL provided in the project tutorial\n",
    "data_df=pd.read_csv('https://raw.githubusercontent.com/4GeeksAcademy/naive-bayes-project-tutorial/main/playstore_reviews.csv')"
   ]
  },
  {
   "cell_type": "markdown",
   "metadata": {},
   "source": [
    "### 1.2. Inspect the data"
   ]
  },
  {
   "cell_type": "code",
   "execution_count": 5,
   "metadata": {},
   "outputs": [
    {
     "data": {
      "text/html": [
       "<div>\n",
       "<style scoped>\n",
       "    .dataframe tbody tr th:only-of-type {\n",
       "        vertical-align: middle;\n",
       "    }\n",
       "\n",
       "    .dataframe tbody tr th {\n",
       "        vertical-align: top;\n",
       "    }\n",
       "\n",
       "    .dataframe thead th {\n",
       "        text-align: right;\n",
       "    }\n",
       "</style>\n",
       "<table border=\"1\" class=\"dataframe\">\n",
       "  <thead>\n",
       "    <tr style=\"text-align: right;\">\n",
       "      <th></th>\n",
       "      <th>package_name</th>\n",
       "      <th>review</th>\n",
       "      <th>polarity</th>\n",
       "    </tr>\n",
       "  </thead>\n",
       "  <tbody>\n",
       "    <tr>\n",
       "      <th>0</th>\n",
       "      <td>com.facebook.katana</td>\n",
       "      <td>privacy at least put some option appear offli...</td>\n",
       "      <td>0</td>\n",
       "    </tr>\n",
       "    <tr>\n",
       "      <th>1</th>\n",
       "      <td>com.facebook.katana</td>\n",
       "      <td>messenger issues ever since the last update, ...</td>\n",
       "      <td>0</td>\n",
       "    </tr>\n",
       "    <tr>\n",
       "      <th>2</th>\n",
       "      <td>com.facebook.katana</td>\n",
       "      <td>profile any time my wife or anybody has more ...</td>\n",
       "      <td>0</td>\n",
       "    </tr>\n",
       "    <tr>\n",
       "      <th>3</th>\n",
       "      <td>com.facebook.katana</td>\n",
       "      <td>the new features suck for those of us who don...</td>\n",
       "      <td>0</td>\n",
       "    </tr>\n",
       "    <tr>\n",
       "      <th>4</th>\n",
       "      <td>com.facebook.katana</td>\n",
       "      <td>forced reload on uploading pic on replying co...</td>\n",
       "      <td>0</td>\n",
       "    </tr>\n",
       "  </tbody>\n",
       "</table>\n",
       "</div>"
      ],
      "text/plain": [
       "          package_name                                             review  \\\n",
       "0  com.facebook.katana   privacy at least put some option appear offli...   \n",
       "1  com.facebook.katana   messenger issues ever since the last update, ...   \n",
       "2  com.facebook.katana   profile any time my wife or anybody has more ...   \n",
       "3  com.facebook.katana   the new features suck for those of us who don...   \n",
       "4  com.facebook.katana   forced reload on uploading pic on replying co...   \n",
       "\n",
       "   polarity  \n",
       "0         0  \n",
       "1         0  \n",
       "2         0  \n",
       "3         0  \n",
       "4         0  "
      ]
     },
     "execution_count": 5,
     "metadata": {},
     "output_type": "execute_result"
    }
   ],
   "source": [
    "data_df.head()"
   ]
  },
  {
   "cell_type": "code",
   "execution_count": 6,
   "metadata": {},
   "outputs": [
    {
     "name": "stdout",
     "output_type": "stream",
     "text": [
      "<class 'pandas.core.frame.DataFrame'>\n",
      "RangeIndex: 891 entries, 0 to 890\n",
      "Data columns (total 3 columns):\n",
      " #   Column        Non-Null Count  Dtype \n",
      "---  ------        --------------  ----- \n",
      " 0   package_name  891 non-null    object\n",
      " 1   review        891 non-null    object\n",
      " 2   polarity      891 non-null    int64 \n",
      "dtypes: int64(1), object(2)\n",
      "memory usage: 21.0+ KB\n"
     ]
    }
   ],
   "source": [
    "data_df.info()"
   ]
  },
  {
   "cell_type": "markdown",
   "metadata": {},
   "source": [
    "### 1.3. Train-test split"
   ]
  },
  {
   "cell_type": "code",
   "execution_count": 7,
   "metadata": {},
   "outputs": [],
   "source": [
    "# Separate features from labels\n",
    "labels=data_df['polarity']\n",
    "features=data_df.drop('polarity', axis=1)\n",
    "\n",
    "# Split the data into training and testing features and labels\n",
    "training_features, testing_features, training_labels, testing_labels=train_test_split(\n",
    "    features,\n",
    "    labels,\n",
    "    test_size=0.25,\n",
    "    random_state=315\n",
    ")"
   ]
  },
  {
   "cell_type": "markdown",
   "metadata": {},
   "source": [
    "### 1.4. Data encoding"
   ]
  },
  {
   "cell_type": "code",
   "execution_count": 8,
   "metadata": {},
   "outputs": [
    {
     "name": "stdout",
     "output_type": "stream",
     "text": [
      "Word count matrix has 668 rows and 3151 columns\n"
     ]
    }
   ],
   "source": [
    "# Get just the reviews from the training data\n",
    "training_reviews=training_features['review']\n",
    "\n",
    "# Fit the vectorizer and transform the training reviews into word counts\n",
    "vector_model=CountVectorizer(stop_words=\"english\")\n",
    "training_word_counts=vector_model.fit_transform(training_reviews).toarray()\n",
    "\n",
    "print(f'Word count matrix has {training_word_counts.shape[0]} rows and {training_word_counts.shape[1]} columns')"
   ]
  },
  {
   "cell_type": "code",
   "execution_count": 9,
   "metadata": {},
   "outputs": [
    {
     "data": {
      "text/html": [
       "<div>\n",
       "<style scoped>\n",
       "    .dataframe tbody tr th:only-of-type {\n",
       "        vertical-align: middle;\n",
       "    }\n",
       "\n",
       "    .dataframe tbody tr th {\n",
       "        vertical-align: top;\n",
       "    }\n",
       "\n",
       "    .dataframe thead th {\n",
       "        text-align: right;\n",
       "    }\n",
       "</style>\n",
       "<table border=\"1\" class=\"dataframe\">\n",
       "  <thead>\n",
       "    <tr style=\"text-align: right;\">\n",
       "      <th></th>\n",
       "      <th>000</th>\n",
       "      <th>04</th>\n",
       "      <th>0x</th>\n",
       "      <th>10</th>\n",
       "      <th>100</th>\n",
       "      <th>101</th>\n",
       "      <th>11</th>\n",
       "      <th>113mb</th>\n",
       "      <th>1186</th>\n",
       "      <th>12</th>\n",
       "      <th>...</th>\n",
       "      <th>śŕ</th>\n",
       "      <th>şŕ</th>\n",
       "      <th>šŕ</th>\n",
       "      <th>šŕľ</th>\n",
       "      <th>źŕ</th>\n",
       "      <th>żŕ</th>\n",
       "      <th>żŕľ</th>\n",
       "      <th>žŕ</th>\n",
       "      <th>žŕľ</th>\n",
       "      <th>ˇŕ</th>\n",
       "    </tr>\n",
       "  </thead>\n",
       "  <tbody>\n",
       "    <tr>\n",
       "      <th>0</th>\n",
       "      <td>0</td>\n",
       "      <td>0</td>\n",
       "      <td>0</td>\n",
       "      <td>0</td>\n",
       "      <td>0</td>\n",
       "      <td>0</td>\n",
       "      <td>0</td>\n",
       "      <td>0</td>\n",
       "      <td>0</td>\n",
       "      <td>0</td>\n",
       "      <td>...</td>\n",
       "      <td>0</td>\n",
       "      <td>0</td>\n",
       "      <td>0</td>\n",
       "      <td>0</td>\n",
       "      <td>0</td>\n",
       "      <td>0</td>\n",
       "      <td>0</td>\n",
       "      <td>0</td>\n",
       "      <td>0</td>\n",
       "      <td>0</td>\n",
       "    </tr>\n",
       "    <tr>\n",
       "      <th>1</th>\n",
       "      <td>0</td>\n",
       "      <td>0</td>\n",
       "      <td>0</td>\n",
       "      <td>0</td>\n",
       "      <td>0</td>\n",
       "      <td>0</td>\n",
       "      <td>0</td>\n",
       "      <td>0</td>\n",
       "      <td>0</td>\n",
       "      <td>0</td>\n",
       "      <td>...</td>\n",
       "      <td>0</td>\n",
       "      <td>0</td>\n",
       "      <td>0</td>\n",
       "      <td>0</td>\n",
       "      <td>0</td>\n",
       "      <td>0</td>\n",
       "      <td>0</td>\n",
       "      <td>0</td>\n",
       "      <td>0</td>\n",
       "      <td>0</td>\n",
       "    </tr>\n",
       "    <tr>\n",
       "      <th>2</th>\n",
       "      <td>0</td>\n",
       "      <td>0</td>\n",
       "      <td>0</td>\n",
       "      <td>0</td>\n",
       "      <td>0</td>\n",
       "      <td>0</td>\n",
       "      <td>0</td>\n",
       "      <td>0</td>\n",
       "      <td>0</td>\n",
       "      <td>0</td>\n",
       "      <td>...</td>\n",
       "      <td>0</td>\n",
       "      <td>0</td>\n",
       "      <td>0</td>\n",
       "      <td>0</td>\n",
       "      <td>0</td>\n",
       "      <td>0</td>\n",
       "      <td>0</td>\n",
       "      <td>0</td>\n",
       "      <td>0</td>\n",
       "      <td>0</td>\n",
       "    </tr>\n",
       "    <tr>\n",
       "      <th>3</th>\n",
       "      <td>0</td>\n",
       "      <td>0</td>\n",
       "      <td>0</td>\n",
       "      <td>0</td>\n",
       "      <td>0</td>\n",
       "      <td>0</td>\n",
       "      <td>0</td>\n",
       "      <td>0</td>\n",
       "      <td>0</td>\n",
       "      <td>0</td>\n",
       "      <td>...</td>\n",
       "      <td>0</td>\n",
       "      <td>0</td>\n",
       "      <td>0</td>\n",
       "      <td>0</td>\n",
       "      <td>0</td>\n",
       "      <td>0</td>\n",
       "      <td>0</td>\n",
       "      <td>0</td>\n",
       "      <td>0</td>\n",
       "      <td>0</td>\n",
       "    </tr>\n",
       "    <tr>\n",
       "      <th>4</th>\n",
       "      <td>0</td>\n",
       "      <td>0</td>\n",
       "      <td>0</td>\n",
       "      <td>0</td>\n",
       "      <td>0</td>\n",
       "      <td>0</td>\n",
       "      <td>0</td>\n",
       "      <td>0</td>\n",
       "      <td>0</td>\n",
       "      <td>0</td>\n",
       "      <td>...</td>\n",
       "      <td>0</td>\n",
       "      <td>0</td>\n",
       "      <td>0</td>\n",
       "      <td>0</td>\n",
       "      <td>0</td>\n",
       "      <td>0</td>\n",
       "      <td>0</td>\n",
       "      <td>0</td>\n",
       "      <td>0</td>\n",
       "      <td>0</td>\n",
       "    </tr>\n",
       "  </tbody>\n",
       "</table>\n",
       "<p>5 rows × 3151 columns</p>\n",
       "</div>"
      ],
      "text/plain": [
       "   000  04  0x  10  100  101  11  113mb  1186  12  ...  śŕ  şŕ  šŕ  šŕľ  źŕ  \\\n",
       "0    0   0   0   0    0    0   0      0     0   0  ...   0   0   0    0   0   \n",
       "1    0   0   0   0    0    0   0      0     0   0  ...   0   0   0    0   0   \n",
       "2    0   0   0   0    0    0   0      0     0   0  ...   0   0   0    0   0   \n",
       "3    0   0   0   0    0    0   0      0     0   0  ...   0   0   0    0   0   \n",
       "4    0   0   0   0    0    0   0      0     0   0  ...   0   0   0    0   0   \n",
       "\n",
       "   żŕ  żŕľ  žŕ  žŕľ  ˇŕ  \n",
       "0   0    0   0    0   0  \n",
       "1   0    0   0    0   0  \n",
       "2   0    0   0    0   0  \n",
       "3   0    0   0    0   0  \n",
       "4   0    0   0    0   0  \n",
       "\n",
       "[5 rows x 3151 columns]"
      ]
     },
     "execution_count": 9,
     "metadata": {},
     "output_type": "execute_result"
    }
   ],
   "source": [
    "# Get the words from the vector model\n",
    "feature_names=vector_model.get_feature_names_out()\n",
    "\n",
    "# Convert the training data word counts back into a dataframe\n",
    "training_word_counts=pd.DataFrame(training_word_counts, columns=feature_names)\n",
    "\n",
    "# Take a look...\n",
    "training_word_counts.head()"
   ]
  },
  {
   "cell_type": "markdown",
   "metadata": {},
   "source": [
    "Seems like we may have some junk features...."
   ]
  },
  {
   "cell_type": "markdown",
   "metadata": {},
   "source": [
    "## 2. EDA"
   ]
  },
  {
   "cell_type": "markdown",
   "metadata": {},
   "source": [
    "### 2.1. Baseline model performance"
   ]
  },
  {
   "cell_type": "code",
   "execution_count": 13,
   "metadata": {},
   "outputs": [
    {
     "name": "stdout",
     "output_type": "stream",
     "text": [
      "Cross-validation accuracy: 80.99 +/- 4.17%\n"
     ]
    }
   ],
   "source": [
    "# Define the model\n",
    "model=MultinomialNB()\n",
    "\n",
    "# Cross-validate the model\n",
    "scores=cross_val(model, training_word_counts.to_numpy(), training_labels)"
   ]
  },
  {
   "cell_type": "markdown",
   "metadata": {},
   "source": [
    "### 2.2. Review length distribution"
   ]
  },
  {
   "cell_type": "code",
   "execution_count": 14,
   "metadata": {},
   "outputs": [
    {
     "data": {
      "image/png": "[encoded data removed]",
      "text/plain": [
       "<Figure size 640x480 with 1 Axes>"
      ]
     },
     "metadata": {},
     "output_type": "display_data"
    },
    {
     "name": "stdout",
     "output_type": "stream",
     "text": [
      "Review length mean: 227\n",
      "Review length min: 8\n",
      "Review length max: 910\n"
     ]
    }
   ],
   "source": [
    "# Try plotting the distribution of review lengths!\n",
    "\n",
    "# Get the lengths (in characters)\n",
    "lengths=training_features['review'].str.len().tolist()\n",
    "\n",
    "plt.title('Review length distribution')\n",
    "plt.xlabel('Characters')\n",
    "plt.ylabel('Reviews')\n",
    "plt.hist(lengths, bins=25)\n",
    "plt.show()\n",
    "\n",
    "print(f'Review length mean: {mean(lengths):.0f}')\n",
    "print(f'Review length min: {min(lengths):.0f}')\n",
    "print(f'Review length max: {max(lengths):.0f}')"
   ]
  },
  {
   "cell_type": "markdown",
   "metadata": {},
   "source": [
    "From the histogram above, it's clear that:\n",
    "\n",
    "1. We have a few extremely long reviews that could be considered 'outliers'.\n",
    "2. We have some very short, or possibly zero length reviews.\n",
    "\n",
    "Let's inspect some from each end of the distribution. If they are junk, i.e. they don't belong in a sample of reviews, we should exclude them. If they are bona fide reviews, we should keep them."
   ]
  },
  {
   "cell_type": "markdown",
   "metadata": {},
   "source": [
    "### 2.3. Long reviews"
   ]
  },
  {
   "cell_type": "code",
   "execution_count": 15,
   "metadata": {},
   "outputs": [],
   "source": [
    "training_features['review_length']=lengths\n",
    "long_reviews=training_features[training_features['review_length'] > 800]"
   ]
  },
  {
   "cell_type": "code",
   "execution_count": 16,
   "metadata": {},
   "outputs": [
    {
     "name": "stdout",
     "output_type": "stream",
     "text": [
      "  ătoo slow loading webclips!!! ăno pdf support at all... (even simpler apps do that!) ă web pages that are clipped do not adjust to current window size automatically when window is shrunk or expanded, (any program does this...geez). ă highlighting? needs more colors instead of brown mustard yellow. no customer support responses either, evernote must have been taken over by students. it's not even fun to use anymore because it is slow as hell.  this is especially for serious business users. any five star ratings down here must have been given by employees under different themes. this program has really retarded over the years. they need to stick to improving their bread and butter instead of selling side junk and features that are useless. well they got my money this time, so i have to put up with it for a few more months. the lack of pdf support really is terrible for a program like this.\n"
     ]
    }
   ],
   "source": [
    "print(long_reviews['review'].iloc[0])"
   ]
  },
  {
   "cell_type": "code",
   "execution_count": 17,
   "metadata": {},
   "outputs": [
    {
     "name": "stdout",
     "output_type": "stream",
     "text": [
      " bait and switch i purchased my 3rd samsung tablet with  advertisement of free gifts, one of them being 48 additional gb cloud storage for 2 years.  the 2nd samsung tablet i bought also had this free gift and it was a nightmare to get samsung and dropbox to honor it.  so, after buying this 3rd high end tablet with the same claim of the free 48gb for 2 years in the fine print, which you can only see after purchasing the tablet, dropbox only honors the offer on the first device you purchased and you are disqualified for all future devices.  this is sleazy and bait and switch.  free= not subject to any compensation, encumbrance, repayment in kind, etc.  because of this bait and switch advertising on the part of samsung and dropbox i suggest you really find out what kind of company dropbox is before using their services.\n"
     ]
    }
   ],
   "source": [
    "print(long_reviews['review'].iloc[1])"
   ]
  },
  {
   "cell_type": "markdown",
   "metadata": {},
   "source": [
    "These look fine - they are not bot spam or keyword stuffing or any other obviously non-review garbage. Let's keep them."
   ]
  },
  {
   "cell_type": "markdown",
   "metadata": {},
   "source": [
    "### 2.4. Short reviews"
   ]
  },
  {
   "cell_type": "code",
   "execution_count": 18,
   "metadata": {},
   "outputs": [
    {
     "data": {
      "text/html": [
       "<div>\n",
       "<style scoped>\n",
       "    .dataframe tbody tr th:only-of-type {\n",
       "        vertical-align: middle;\n",
       "    }\n",
       "\n",
       "    .dataframe tbody tr th {\n",
       "        vertical-align: top;\n",
       "    }\n",
       "\n",
       "    .dataframe thead th {\n",
       "        text-align: right;\n",
       "    }\n",
       "</style>\n",
       "<table border=\"1\" class=\"dataframe\">\n",
       "  <thead>\n",
       "    <tr style=\"text-align: right;\">\n",
       "      <th></th>\n",
       "      <th>package_name</th>\n",
       "      <th>review</th>\n",
       "      <th>review_length</th>\n",
       "    </tr>\n",
       "  </thead>\n",
       "  <tbody>\n",
       "    <tr>\n",
       "      <th>755</th>\n",
       "      <td>com.shirantech.kantipur</td>\n",
       "      <td>too much pop up add</td>\n",
       "      <td>21</td>\n",
       "    </tr>\n",
       "    <tr>\n",
       "      <th>761</th>\n",
       "      <td>com.shirantech.kantipur</td>\n",
       "      <td>aa nice</td>\n",
       "      <td>8</td>\n",
       "    </tr>\n",
       "    <tr>\n",
       "      <th>851</th>\n",
       "      <td>com.hamropatro</td>\n",
       "      <td>very useful !</td>\n",
       "      <td>15</td>\n",
       "    </tr>\n",
       "    <tr>\n",
       "      <th>843</th>\n",
       "      <td>com.hamropatro</td>\n",
       "      <td>superb! all in one!</td>\n",
       "      <td>20</td>\n",
       "    </tr>\n",
       "    <tr>\n",
       "      <th>846</th>\n",
       "      <td>com.hamropatro</td>\n",
       "      <td>nice app</td>\n",
       "      <td>10</td>\n",
       "    </tr>\n",
       "  </tbody>\n",
       "</table>\n",
       "</div>"
      ],
      "text/plain": [
       "                package_name                 review  review_length\n",
       "755  com.shirantech.kantipur    too much pop up add             21\n",
       "761  com.shirantech.kantipur                aa nice              8\n",
       "851           com.hamropatro          very useful !             15\n",
       "843           com.hamropatro    superb! all in one!             20\n",
       "846           com.hamropatro               nice app             10"
      ]
     },
     "execution_count": 18,
     "metadata": {},
     "output_type": "execute_result"
    }
   ],
   "source": [
    "short_length=25\n",
    "\n",
    "short_reviews=training_features[training_features['review_length'] < short_length]\n",
    "short_reviews.head()\n"
   ]
  },
  {
   "cell_type": "markdown",
   "metadata": {},
   "source": [
    "Similar story here - these are very short, but also reasonable. We should keep them."
   ]
  },
  {
   "cell_type": "markdown",
   "metadata": {},
   "source": [
    "### 2.3. Feature selection"
   ]
  },
  {
   "cell_type": "code",
   "execution_count": 19,
   "metadata": {},
   "outputs": [
    {
     "data": {
      "image/png": "[encoded data removed]",
      "text/plain": [
       "<Figure size 640x480 with 1 Axes>"
      ]
     },
     "metadata": {},
     "output_type": "display_data"
    }
   ],
   "source": [
    "# After encoding we have over three thousand features - do we need all of them? Try plotting the distribution of word counts!\n",
    "\n",
    "# Get the total count for each word\n",
    "word_counts=training_word_counts.sum().tolist()\n",
    "\n",
    "plt.title('Word count distribution')\n",
    "plt.xlabel('Count')\n",
    "plt.ylabel('Words')\n",
    "plt.hist(word_counts, bins=30)\n",
    "plt.show()\n"
   ]
  },
  {
   "cell_type": "markdown",
   "metadata": {},
   "source": [
    "Note: this is not a great plot! This distribution spans 3 orders of magnitude and has a long tail. It's hard to see the shape of the data. In this situation, it can be more useful to plot the log:"
   ]
  },
  {
   "cell_type": "code",
   "execution_count": 20,
   "metadata": {},
   "outputs": [
    {
     "data": {
      "image/png": "[encoded data removed]",
      "text/plain": [
       "<Figure size 640x480 with 1 Axes>"
      ]
     },
     "metadata": {},
     "output_type": "display_data"
    }
   ],
   "source": [
    "plt.title('Word count distribution')\n",
    "plt.xlabel('Count')\n",
    "plt.ylabel('Words')\n",
    "plt.hist(word_counts, bins=30, log=True)\n",
    "plt.show()"
   ]
  },
  {
   "cell_type": "markdown",
   "metadata": {},
   "source": [
    "From the plots we can tell that we have thousands of words that occur in 10 or less of our reviews. These could be candidate features for removal, but let's take a look at some examples first and see what we are dealing with."
   ]
  },
  {
   "cell_type": "code",
   "execution_count": 21,
   "metadata": {},
   "outputs": [
    {
     "name": "stdout",
     "output_type": "stream",
     "text": [
      "Have 1699 words that only appear in one document.\n",
      "\n",
      "['000', '04', '0x', '101', '11', '113mb', '1186', '125', '14', '14th', '15mb', '180k', '1990s', '1lac', '1st', '2016', '22mb', '25', '2lac', '2m', '2many', '2nd', '30mins', '367', '3gb', '3s', '3yrs', '45', '45mb', '48gb', '50', '500k', '512kbps', '5minutes', '5star', '6mb', '82', '86', '95', 'aa', 'aakhirat', 'aapsssssss', 'abilities', 'abke', 'absolute', 'absurdly', 'accecesible', 'acces', 'accesible', 'accessing', 'accident', 'accomplish', 'accordion', 'accounts', 'accumulated', 'accurate', 'achievement', 'achive', 'act', 'activities', 'acts', 'actual', 'adage', 'adblock', 'addicted', 'addicting', 'addition', 'additional', 'addons', 'addressed', 'adequate', 'adjusting', 'adjustment', 'admin', 'admit', 'advanced', 'adventurous', 'advertising', 'adverts', 'advice', 'aesthetics', 'affirm', 'aficionado', 'age', 'agenda', 'agent', 'ahead', 'air', 'album', 'alert', 'alerts', 'allahsubhanahutallah', 'ambience', 'american', 'analysing', 'anchor', 'ancient', 'animation', 'anone', 'answering', 'anwer', 'anyttime', 'aosp', 'ap', 'api', 'apk', 'apparent', 'appealing', 'appliation', 'applications', 'applied', 'applies', 'apply', 'applying', 'appp', 'approaching', 'approval', 'aprrox', 'aquire', 'ar', 'archive', 'arduous', 'area', 'arise', 'armour', 'arrange', 'arrangement', 'arrived', 'arrives', 'arrogant', 'arsenal', 'asia', 'aside', 'ask', 'assets', 'assistance', 'associated', 'atks', 'atm', 'attacker', 'attention', 'attorney', 'attributed', 'audience', 'authority', 'autoimport', 'automated', 'autosync', 'availability', 'avid', 'avoid', 'awesomness', 'awsome', 'ba', 'backward', 'badly', 'baking', 'balloon', 'balloons', 'banae', 'bandwidth', 'bank', 'banned', 'bardzo', 'barely', 'barracks', 'barrister', 'barstools', 'battleing', 'bcome', 'bcoz', 'bcuz', 'beach', 'beaten', 'beats', 'beauty', 'becoz', 'beep', 'beginning', 'begins', 'begun', 'behave', 'belong', 'beloved', 'benefits', 'benifit', 'bennet', 'bhai', 'bhaye', 'bias', 'biggest', 'bills', 'binder', 'bing', 'binned', 'blackberry', 'blast', 'blessed', 'blocked', 'blog', 'blowing', 'blue', 'bluetick', 'blurb', 'blurred', 'boat', 'bonuses', 'boo', 'bookmarking', 'boom', 'booster', 'boosts', 'booted', 'boster', 'bothers', 'bottoms', 'bouncing', 'bour', 'boy', 'bread', 'brightly', 'bring', 'brings', 'bro', 'broadcast', 'brought', 'brown', 'browse', 'bruce', 'brutally', 'bs', 'btw', 'bufring', 'bugd', 'buggier', 'buggin', 'buggy', 'build', 'bulk', 'bull', 'bummer', 'bumped', 'buried', 'burn', 'burning', 'butt', 'butter', 'buttons', 'bye', 'cabinet', 'calculation', 'calender', 'calm', 'camp', 'camper', 'camscanner', 'candycrush', 'candys', 'capabilities', 'capital', 'capitalization', 'capitalized', 'capslock', 'cares', 'caring', 'case', 'cashing', 'categorizes', 'causing', 'celebrity', 'cellphone', 'cellular', 'certificate', 'chadainai', 'chahe', 'challange', 'challenging', 'chances', 'changelog', 'characters', 'charm', 'cheaper', 'checkered', 'checklist', 'cheers', 'cheesy', 'chemicals', 'chico', 'children', 'chile', 'choices', 'chooses', 'choti', 'chronological', 'city', 'claim', 'clan', 'class', 'classic', 'classmates', 'clean', 'cleard', 'clearing', 'clearly', 'clever', 'clientside', 'clip', 'clipboard', 'clipped', 'cloaks', 'closer', 'clqn', 'clr', 'clunky', 'cm', 'cnt', 'coding', 'coins', 'collaborations', 'collapsible', 'colleagues', 'collected', 'collection', 'collectors', 'colored', 'colorful', 'colume', 'combine', 'combined', 'comfortable', 'command', 'commercial', 'commercials', 'commit', 'comms', 'communicate', 'community', 'compensation', 'competition', 'complaining', 'compleat', 'completed', 'completing', 'complicate', 'complicated', 'compose', 'compress', 'compression', 'concept', 'concern', 'concerned', 'concerning', 'conducted', 'config', 'confirmation', 'conformation', 'confused', 'confusion', 'conjoined', 'conjure', 'connectivity', 'consideration', 'consist', 'consume', 'consumption', 'contacting', 'contains', 'contents', 'continually', 'continuing', 'convenient', 'conversion', 'convertor', 'cooler', 'cooper', 'coordinating', 'coordination', 'copied', 'copies', 'core', 'cost', 'count', 'countless', 'covering', 'crapberry', 'crappy', 'crawl', 'creates', 'creating', 'creator', 'creators', 'cringe', 'crying', 'ctrl', 'cue', 'cumbersome', 'customer', 'customers', 'customisatins', 'customise', 'customize', 'cute', 'cuts', 'cutting', 'cuz', 'da', 'daammiiiiiiiiiiiiiiiiiii', 'dafuq', 'daju', 'dammit', 'danm', 'dat', 'database', 'date', 'dating', 'dbl', 'deal', 'decembers', 'decides', 'decline', 'declining', 'decreased', 'deen', 'defense', 'define', 'defy', 'delayed', 'delays', 'demand', 'democracy', 'depend', 'dependable', 'deploy', 'depth', 'described', 'desire', 'desktops', 'desperately', 'destroy', 'detoriated', 'dev', 'developing', 'dherai', 'dialog', 'die', 'differently', 'diffrent', 'diminishing', 'directed', 'directory', 'disabled', 'disabling', 'disappear', 'disappearing', 'disappointing', 'disconnectec', 'disconnected', 'disconnection', 'discovery', 'discuss', 'discussion', 'display', 'displays', 'disqualified', 'distract', 'dnt', 'dog', 'dolphin', 'donate', 'donno', 'doogee', 'double', 'douchebags', 'downgrade', 'downhill', 'downwards', 'dozen', 'dp', 'drain', 'drainage', 'drained', 'draining', 'driving', 'droid', 'dropped', 'dual', 'dud', 'dukha', 'duniyan', 'duplication', 'duration', 'dwnldng', 'dzie', 'ear', 'earlier', 'earn', 'earphone', 'eat', 'ed', 'edited', 'ee', 'effectively', 'effects', 'electronic', 'electronically', 'elixer', 'elixir', 'ellipsis', 'els', 'emailed', 'emails', 'embedding', 'employees', 'enable', 'encouraging', 'encumbrance', 'endorsing', 'eng', 'engines', 'england', 'enjoyed', 'enjoying', 'enlarged', 'enlarges', 'enormous', 'ensure', 'entering', 'entertaining', 'entertainment', 'entirely', 'epic', 'er', 'erm', 'erorr', 'erroneous', 'errors', 'esp', 'esprcially', 'essay', 'essentially', 'essy', 'estae', 'ether', 'everybody', 'evrybody', 'excel', 'excels', 'excessive', 'exchange', 'excited', 'excuse', 'excuses', 'executed', 'exhibit', 'exif', 'exists', 'exits', 'expandable', 'expanded', 'expecting', 'expired', 'expirience', 'explain', 'explore', 'explorer', 'exponentially', 'extras', 'extreme', 'eyes', 'faast', 'fab', 'fabulous', 'facetime', 'facillity', 'factory', 'fades', 'failure', 'fall', 'fancy', 'fastly', 'fate', 'favourite', 'fc', 'feathers', 'fee', 'feedback', 'feelings', 'feels', 'fetch', 'ff', 'fhone', 'filled', 'finding', 'finger', 'finishing', 'fish', 'fit', 'flaw', 'flawlessly', 'flaws', 'fleksy', 'flexibility', 'flinging', 'flip', 'floating', 'fm', 'followers', 'fool', 'footprint', 'formatted', 'forms', 'forth', 'forts', 'forum', 'founder', 'frams', 'franchise', 'fraud', 'freaking', 'freedom', 'frenz', 'fresh', 'friendship', 'frm', 'fruitful', 'fualts', 'functional', 'functioning', 'fuse', 'futhermore', 'gained', 'gains', 'garbage', 'garnu', 'gasp', 'gautam', 'gave', 'gb', 'geez', 'gem', 'genuine', 'german', 'gesture', 'gestures', 'ghost', 'giants', 'gift', 'gifts', 'gigabytes', 'gionee', 'girl', 'girlfriend', 'glitchier', 'globe', 'god', 'gotchas', 'gotta', 'government', 'govinda', 'gowipe', 'grab', 'grandchildren', 'graphic', 'graphics', 'gravity', 'grayed', 'greatfull', 'greatness', 'greed', 'green', 'ground', 'grouped', 'grouping', 'groupme', 'grows', 'grr', 'gtfohwtbs', 'guy', 'haami', 'habit', 'hack', 'hagu', 'hai', 'hajur', 'hame', 'hance', 'handful', 'hands', 'handset', 'handwriting', 'hanged', 'hanging', 'hangout', 'hanif', 'happening', 'happily', 'happpenedd', 'hardy', 'harule', 'hashtag', 'hats', 'havent', 'hd', 'headed', 'healing', 'heart', 'hebrew', 'held', 'helpless', 'hernu', 'heros', 'hierarchies', 'highend', 'highlight', 'highlighting', 'hike', 'hilarious', 'hindi', 'historical', 'hog', 'holding', 'homepagemai', 'honest', 'honor', 'honors', 'hook', 'hopefully', 'house', 'http', 'huge', 'hugely', 'huh', 'humanity', 'hundreds', 'hune', 'hunxa', 'hurry', 'hurt', 'hurts', 'husband', 'hv', 'iam', 'ideas', 'identity', 'ig', 'ignorant', 'ignored', 'ignores', 'iike', 'ily', 'imessages', 'immediate', 'immediatetely', 'implementation', 'import', 'imposible', 'impressive', 'improves', 'imw', 'inactivity', 'inbuilt', 'included', 'incognito', 'income', 'incompetent', 'incomplete', 'incorrect', 'incraese', 'incredible', 'incredibly', 'independent', 'independently', 'individual', 'individually', 'infected', 'inferior', 'infront', 'ing', 'initially', 'initials', 'initiative', 'innovative', 'ins', 'instagram', 'installation', 'installs', 'instance', 'instant', 'instore', 'integrates', 'intention', 'interact', 'interpretation', 'interrupt', 'introduce', 'invasive', 'invested', 'invisible', 'invitations', 'ipad', 'iphones', 'ipod', 'irelative', 'irrelevant', 'ish', 'isnt', 'iteam', 'item', 'itâ', 'iv', 'iz', 'j1', 'jam', 'jane', 'jati', 'jellies', 'jerky', 'jill', 'joke', 'jolting', 'jot', 'jpeg', 'judgment', 'jumbled', 'jump', 'jumping', 'jumps', 'jungle', 'junk', 'kalaiya', 'karachi', 'kb', 'keyboards', 'keys', 'keywords', 'khojyo', 'khtra', 'kicking', 'kidding', 'kids', 'knew', 'knock', 'knockoff', 'knowledge', 'known', 'komunikacji', 'labratory', 'lacking', 'lacks', 'lagging', 'laggy', 'lags', 'lagyo', 'lai', 'languages', 'laptops', 'larger', 'lasted', 'late', 'lauded', 'launch', 'launches', 'lee', 'lefthand', 'legendary', 'lemmings', 'lengthy', 'lens', 'letterd', 'letters', 'light', 'lightweight', 'likewise', 'limitations', 'limited', 'limits', 'limts', 'linda', 'lines', 'lipi', 'listed', 'locality', 'locally', 'logging', 'logs', 'lollies', 'london', 'longest', 'loooooooooooooovvved', 'loop', 'looses', 'loser', 'losses', 'loud', 'lousy', 'lowercase', 'ma', 'madara', 'magic', 'magnificent', 'mail', 'mainly', 'mait', 'manage', 'mandatory', 'manyyyy', 'maps', 'march', 'mario', 'market', 'marketplace', 'marshmallow', 'marvelous', 'mash', 'massage', 'massive', 'match', 'matching', 'material', 'matra', 'max', 'maybee', 'mayth', 'mea', 'meaning', 'meant', 'medium', 'meeting', 'megs', 'members', 'membership', 'men', 'mentioned', 'mentoined', 'messing', 'met', 'metadata', 'method', 'micro', 'microphone', 'mid', 'mighty', 'migration', 'min', 'minded', 'minilite', 'minimal', 'minimised', 'minimum', 'minor', 'mints', 'minuses', 'mistake', 'mitra', 'mixed', 'mobie', 'mobiles', 'moblie', 'model', 'modern', 'modifications', 'modify', 'moments', 'mommas', 'monitor', 'moon', 'moral', 'morally', 'morning', 'mouth', 'moved', 'movie', 'mozz', 'mp3', 'mracles', 'mrsgwennd', 'ms', 'muhammad', 'multiplayer', 'multiply', 'multitab', 'multitasking', 'mustard', 'mutiple', 'mx', 'mystery', 'names', 'narrow', 'naruto', 'narzä', 'native', 'natively', 'nature', 'navarro', 'navigation', 'nawt', 'neali', 'nearby', 'neat', 'neato', 'necessarily', 'necessity', 'needfull', 'needing', 'negative', 'negatives', 'neoali', 'networks', 'newly', 'newspaper', 'newz', 'nicely', 'nightmare', 'nonetheless', 'nonspecific', 'normal', 'normally', 'noticeable', 'noticing', 'novel', 'nowadays', 'nuisance', 'nut', 'nyc', 'obscured', 'observation', 'observed', 'occasionally', 'occurs', 'officials', 'olds', 'oman', 'onedrive', 'onenote', 'oneplusx', 'only3', 'ons', 'ony', 'opacity', 'opend', 'operator', 'opposed', 'optimization', 'optimum', 'ordered', 'organize', 'othr', 'outcalls', 'outfits', 'outof', 'output', 'outstanding', 'overflow', 'p2s', 'pace', 'package', 'pain', 'paine', 'pakistan', 'pan', 'panasonic', 'pani', 'panning', 'parne', 'parts', 'partđ', 'parxa', 'passed', 'passion', 'passwords', 'pasting', 'patience', 'patro', 'pattern', 'pause', 'payed', 'paying', 'pcs', 'pdfs', 'peaple', 'peek', 'pekka', 'peoples', 'peramiters', 'perception', 'periodically', 'perpetrated', 'persist', 'persists', 'personalization', 'pffft', 'phenomenol', 'phon', 'picsart', 'pig', 'piggy', 'pinch', 'pity', 'pl', 'placement', 'places', 'placing', 'planet', 'plans', 'platforms', 'pleasee', 'pleaz', 'pliz', 'plsss', 'plug', 'plzz', 'polished', 'poorly', 'pops', 'popular', 'popup', 'popups', 'portions', 'position', 'possiblethen', 'possiple', 'posted', 'poster', 'posting', 'potentially', 'powers', 'powerups', 'practically', 'practice', 'prayers', 'pre', 'preety', 'prefer', 'prefered', 'preferred', 'present', 'presentation', 'pressed', 'pressing', 'preventing', 'previews', 'primarily', 'primary', 'print', 'processes', 'produce', 'produced', 'productive', 'professional', 'profiles', 'programming', 'progress', 'projects', 'promising', 'properties', 'proposed', 'propper', 'protocol', 'proved', 'provider', 'pswrd', 'public', 'purchases', 'purchasing', 'pushers', 'pushing', 'pw', 'qq', 'qualms', 'queing', 'questions', 'quiet', 'ra', 'raft', 'railway', 'rakhnu', 'ramp', 'randomly', 'rank', 'rapidly', 'rapped', 'rashifal', 'ratings', 'readable', 'reader', 'reality', 'realize', 'realized', 'realy', 'reboot', 'rebooting', 'receipts', 'recieve', 'recognition', 'recognizes', 'recommendation', 'recommendations', 'reconnect', 'recording', 'recovery', 'rectangle', 'redesigns', 'rediculus', 'reduced', 'refer', 'register', 'registering', 'registration', 'regularly', 'related', 'released', 'releases', 'reloaded', 'reloading', 'remain', 'remains', 'remind', 'reminders', 'removing', 'rendered', 'repayment', 'repeated', 'repeatedly', 'repeating', 'replayed', 'replied', 'replies', 'replying', 'report', 'requested', 'rerender', 'resantly', 'resent', 'resets', 'resize', 'resolution', 'resolved', 'responded', 'responses', 'responsiveness', 'rest', 'restarting', 'restriction', 'results', 'retained', 'retarded', 'retrieve', 'retry', 'retweet', 'retweeted', 'revert', 'reverts', 'reviewer', 'reviewers', 'reviewing', 'revisiting', 'reward', 'rewelacja', 'rigged', 'rigorously', 'rings', 'ringtone', 'rio', 'ripoff', 'robin', 'rocks', 'rolled', 'root', 'rotation', 'rounds', 'rows', 'royal', 'rude', 'rupess', 'rush', 's3', 's5', 'sabai', 'sabotaged', 'sadly', 'sanshkar', 'saptahik', 'sathi', 'satting', 'scale', 'scan', 'scanner', 'scheme', 'school', 'screamer', 'screens', 'screenshot', 'screenshots', 'scrolls', 'scroogle', 'sdxc', 'searhing', 'secondary', 'section', 'securely', 'seemingly', 'segment', 'selecting', 'self', 'selling', 'semi', 'sends', 'sentense', 'separately', 'separation', 'sepearately', 'sequel', 'series', 'sessions', 'settling', 'shab', 'shadow', 'shame', 'shift', 'shite', 'shld', 'shocking', 'shoilder', 'shop', 'shoulders', 'shouldn', 'shouldve', 'showed', 'shrunk', 'shuts', 'shw', 'sideways', 'signed', 'signs', 'silent', 'silly', 'sim', 'simbol', 'simplicity', 'simplified', 'simplistic', 'simultaneously', 'sinxe', 'sir', 'sis', 'sit', 'sitting', 'situations', 'skeletons', 'skeptical', 'skip', 'skitch', 'sleazy', 'sleeping', 'slick', 'slid', 'slove', 'slowest', 'slowww', 'smh', 'smoothest', 'smoothness', 'snail', 'snooze', 'snowy', 'socket', 'solely', 'solves', 'som', 'somesite', 'somethings', 'somewhat', 'sooner', 'soooo', 'sor', 'sorted', 'sorting', 'sos', 'sounds', 'source', 'spaces', 'spammed', 'spams', 'span', 'speakers', 'specially', 'speedmode', 'spelling', 'spells', 'spend', 'spent', 'spiritual', 'spot', 'spotty', 'spread', 'spyware', 'square', 'stage', 'standalone', 'startup', 'state', 'states', 'stayed', 'steady', 'steal', 'steamos', 'steroids', 'stewards', 'sticker', 'stock', 'stopping', 'stories', 'storsge', 'straightforward', 'strangers', 'strategy', 'streaming', 'streamlined', 'strike', 'strikethrough', 'strongened', 'struck', 'structures', 'stucked', 'students', 'stumbled', 'stunning', 'stutter', 'stylish', 'subjects', 'submit', 'submitting', 'subscribe', 'substantial', 'successfully', 'suffered', 'sufficiently', 'sugandha', 'suggested', 'suggesting', 'suggestions', 'suit', 'suitable', 'sukaha', 'sum', 'summer', 'sumpreme', 'sun', 'superb', 'superpowers', 'supplies', 'suppose', 'supposedly', 'surprise', 'surprised', 'survive', 'sussinct', 'suxess', 'swaps', 'sweety', 'swift', 'swipes', 'swiping', 'switcher', 'switches', 'switching', 'sword', 'symbian', 'synced', 'synchronising', 'synchronization', 'synchronizing', 'syncs', 't10', 'tabbed', 'table', 'tablets', 'taker', 'tall', 'tamil', 'tapai', 'tapping', 'taps', 'tara', 'target', 'tat', 'tatal', 'te', 'telephone', 'tels', 'tempers', 'term', 'testing', 'texting', 'tge', 'th', 'th10', 'th11', 'th11s', 'tha', 'thankfully', 'thankyou', 'thanx', 'ther', 'thi', 'thn', 'tho', 'thoroughly', 'thousands', 'thread', 'threw', 'thrilling', 'throw', 'ths', 'tht', 'thumbnail', 'thumbs', 'thx', 'thyehi', 'tickets', 'timepass', 'timess', 'tip', 'tips', 'titan', 'titles', 'tnx', 'today', 'todo', 'todoly', 'toes', 'token', 'tolerate', 'ton', 'tonight', 'tony', 'toolbar', 'tops', 'tos', 'total', 'touchscreen', 'touted', 'traditional', 'transferable', 'transferred', 'transition', 'translate', 'translation', 'translations', 'travel', 'traveling', 'treat', 'tricky', 'trophies', 'trophy', 'troubleshooter', 'trounle', 'true', 'truly', 'trust', 'tube', 'tumblr', 'turned', 'ucbrowser', 'uchihađ', 'ug', 'ugh', 'uk', 'ultimately', 'umm', 'unbelievable', 'unbelievably', 'undead', 'underground', 'underscore', 'understand', 'undisputed', 'undo', 'undoubtly', 'unedited', 'unexpected', 'unforgivably', 'unfriend', 'unfriendly', 'unicodes', 'unique', 'unis', 'unite', 'unlike', 'unlimited', 'unloading', 'unmatched', 'unpleasant', 'unread', 'unresponsive', 'unsatisfactory', 'untill', 'upayogi', 'upchurch', 'updation', 'uploads', 'upto', 'urged', 'usable', 'usefull', 'usefully', 'userbase', 'uses', 'ussd', 'ux', 'uĺźyteczne', 'vanera', 'variety', 'vaya', 'verified', 'verry', 'vertical', 'vibe', 'vibrate', 'vibration', 'viewers', 'views', 'villages', 'vine', 'virgin', 'virtual', 'visuals', 'vpn', 'vry', 'waay', 'waist', 'wakelock', 'wakelocks', 'wall', 'wallpapers', 'walls', 'wandering', 'wapp', 'war', 'wasted', 'wasteful', 'wasting', 'wating', 'weakness', 'weather', 'webclips', 'weird', 'welcome', 'wen', 'weren', 'wheel', 'whilst', 'whiners', 'whwn', 'wich', 'wielding', 'wikipedia', 'windows', 'wings', 'winter', 'wip', 'wiping', 'wise', 'wit', 'withou', 'wonder', 'woory', 'worsed', 'worthy', 'wow', 'wrap', 'writings', 'wsa', 'www', 'x5', 'x8', 'xcept', 'xmpp', 'ya', 'yall', 'yandex', 'yay', 'yeah', 'yellow', 'yep', 'yrs', 'yup', 'z1', 'z2', 'z3', 'zenfon', 'zenfone', 'zero', 'zespole', 'âł3', 'ìs', 'ľŕ', 'źŕ', 'ˇŕ']\n"
     ]
    }
   ],
   "source": [
    "rare_words=[]\n",
    "\n",
    "for word, count in zip(feature_names, word_counts):\n",
    "    if count == 1:\n",
    "        rare_words.append(word)\n",
    "\n",
    "print(f'Have {len(rare_words)} words that only appear in one document.\\n')\n",
    "print(rare_words)"
   ]
  },
  {
   "cell_type": "markdown",
   "metadata": {},
   "source": [
    "Many of these are actual english words, so my instinct is not to throw them out. Since we are dropping features and not examples, let's try it and see what happens to the cross-validation performance."
   ]
  },
  {
   "cell_type": "code",
   "execution_count": 23,
   "metadata": {},
   "outputs": [
    {
     "name": "stdout",
     "output_type": "stream",
     "text": [
      "Cross-validation accuracy: 81.14 +/- 4.74%\n"
     ]
    }
   ],
   "source": [
    "# Define the model\n",
    "model=MultinomialNB()\n",
    "\n",
    "# Cross-validate the model\n",
    "scores=cross_val(model, training_word_counts.drop(rare_words, axis=1).to_numpy(), training_labels)"
   ]
  },
  {
   "cell_type": "markdown",
   "metadata": {},
   "source": [
    "Tiny improvement. Let's try looking at the top  common words:"
   ]
  },
  {
   "cell_type": "code",
   "execution_count": 24,
   "metadata": {},
   "outputs": [
    {
     "name": "stdout",
     "output_type": "stream",
     "text": [
      "Have 7 words that appear in 100 or more documents.\n",
      "\n",
      "['app', 'fix', 'game', 'good', 'like', 'new', 'update']\n"
     ]
    }
   ],
   "source": [
    "threshold=100\n",
    "common_words=[]\n",
    "\n",
    "for word, count in zip(feature_names, word_counts):\n",
    "    if count >= threshold:\n",
    "        common_words.append(word)\n",
    "\n",
    "print(f'Have {len(common_words)} words that appear in {threshold} or more documents.\\n')\n",
    "print(common_words)"
   ]
  },
  {
   "cell_type": "markdown",
   "metadata": {},
   "source": [
    "Yeah, thinking we should probably leave those alone. Let's try one more feature selection/engineering strategy before we move on:"
   ]
  },
  {
   "cell_type": "code",
   "execution_count": 25,
   "metadata": {},
   "outputs": [],
   "source": [
    "svd=TruncatedSVD(n_components=1000)\n",
    "fit_result=svd.fit(training_word_counts.drop(rare_words, axis=1))"
   ]
  },
  {
   "cell_type": "code",
   "execution_count": 26,
   "metadata": {},
   "outputs": [
    {
     "data": {
      "image/png": "[encoded data removed]",
      "text/plain": [
       "<Figure size 640x480 with 1 Axes>"
      ]
     },
     "metadata": {},
     "output_type": "display_data"
    }
   ],
   "source": [
    "plt.plot(np.cumsum(svd.explained_variance_ratio_))\n",
    "plt.xlabel('number of components')\n",
    "plt.ylabel('cumulative explained variance')\n",
    "plt.show()"
   ]
  },
  {
   "cell_type": "code",
   "execution_count": 27,
   "metadata": {},
   "outputs": [],
   "source": [
    "svd=TruncatedSVD(n_components=600)\n",
    "training_words_svd=svd.fit_transform(training_word_counts.drop(rare_words, axis=1))"
   ]
  },
  {
   "cell_type": "code",
   "execution_count": 28,
   "metadata": {},
   "outputs": [],
   "source": [
    "training_words_svd += abs(np.min(training_words_svd))"
   ]
  },
  {
   "cell_type": "code",
   "execution_count": 29,
   "metadata": {},
   "outputs": [
    {
     "name": "stdout",
     "output_type": "stream",
     "text": [
      "Cross-validation accuracy: 66.92 +/- 5.27%\n"
     ]
    }
   ],
   "source": [
    "# Define the model\n",
    "model=GaussianNB()\n",
    "\n",
    "# Scale the data to make it non-negative\n",
    "training_words_svd += abs(np.min(training_words_svd))\n",
    "\n",
    "# Cross-validate the model\n",
    "scores=cross_val(model, training_words_svd, training_labels)"
   ]
  },
  {
   "cell_type": "markdown",
   "metadata": {},
   "source": [
    "Nope - didn't help. One more feature engineering idea - we have been ignoring the app feature. Let's try using it!"
   ]
  },
  {
   "cell_type": "code",
   "execution_count": 30,
   "metadata": {},
   "outputs": [],
   "source": [
    "encoded_package_name=pd.get_dummies(training_features['package_name'], dtype=int)\n",
    "encoded_package_name.reset_index(drop=True, inplace=True)\n",
    "word_count_package_name=training_word_counts.join(encoded_package_name)"
   ]
  },
  {
   "cell_type": "code",
   "execution_count": 32,
   "metadata": {},
   "outputs": [
    {
     "name": "stdout",
     "output_type": "stream",
     "text": [
      "Cross-validation accuracy: 83.69 +/- 3.70%\n"
     ]
    }
   ],
   "source": [
    "# Define the model\n",
    "model=MultinomialNB()\n",
    "\n",
    "# Cross-validate the model\n",
    "scores=cross_val(model, word_count_package_name.to_numpy(), training_labels)"
   ]
  },
  {
   "cell_type": "markdown",
   "metadata": {},
   "source": [
    "Nice! Ok, cool - there was definitely some good information there! I have one more idea - what if the length of the review matters? We could add a new set of dummy features for short, medium and long?"
   ]
  },
  {
   "cell_type": "code",
   "execution_count": 33,
   "metadata": {},
   "outputs": [],
   "source": [
    "quantiles=[0, 0.25, 0.50, 0.75, 1]\n",
    "bins=training_features['review_length'].quantile(quantiles)\n",
    "\n",
    "labels = ['short_bin', 'medium_bin', 'long_bin', 'extralong_bin']\n",
    "training_features['length_bin']=pd.cut(training_features['review_length'], bins=bins, labels=labels)\n",
    "\n",
    "encoded_length_bin=pd.get_dummies(training_features['length_bin'], dtype=int)\n",
    "encoded_length_bin.reset_index(drop=True, inplace=True)\n",
    "\n",
    "word_count_package_name_length_bin=word_count_package_name.join(encoded_length_bin)"
   ]
  },
  {
   "cell_type": "code",
   "execution_count": 35,
   "metadata": {},
   "outputs": [
    {
     "name": "stdout",
     "output_type": "stream",
     "text": [
      "Cross-validation accuracy: 83.54 +/- 4.02%\n"
     ]
    }
   ],
   "source": [
    "# Define the model\n",
    "model=MultinomialNB()\n",
    "\n",
    "# Cross-validate the model\n",
    "scores=cross_val(model, word_count_package_name_length_bin.to_numpy(), training_labels)"
   ]
  },
  {
   "cell_type": "markdown",
   "metadata": {},
   "source": [
    "Nope - didn't help. Maybe we can revisit this later - I have more ideas for engineered features, but I think that's enough for now."
   ]
  },
  {
   "cell_type": "markdown",
   "metadata": {},
   "source": [
    "## 5. Model optimization"
   ]
  },
  {
   "cell_type": "code",
   "execution_count": 37,
   "metadata": {},
   "outputs": [
    {
     "name": "stdout",
     "output_type": "stream",
     "text": [
      "Cross-validation accuracy: 83.69 +/- 3.70%\n"
     ]
    }
   ],
   "source": [
    "multinomial_model=MultinomialNB()\n",
    "multinomial_scores=cross_val(multinomial_model, word_count_package_name.to_numpy(), training_labels)"
   ]
  },
  {
   "cell_type": "code",
   "execution_count": 38,
   "metadata": {},
   "outputs": [
    {
     "name": "stdout",
     "output_type": "stream",
     "text": [
      "Cross-validation accuracy: 75.30 +/- 3.33%\n"
     ]
    }
   ],
   "source": [
    "gaussian_model=GaussianNB()\n",
    "gaussian_scores=cross_val(gaussian_model, word_count_package_name.to_numpy(), training_labels)"
   ]
  },
  {
   "cell_type": "code",
   "execution_count": 39,
   "metadata": {},
   "outputs": [
    {
     "name": "stdout",
     "output_type": "stream",
     "text": [
      "Cross-validation accuracy: 79.49 +/- 3.56%\n"
     ]
    }
   ],
   "source": [
    "bernoulli_model=BernoulliNB()\n",
    "bernoulli_scores=cross_val(bernoulli_model, word_count_package_name.to_numpy(), training_labels)"
   ]
  },
  {
   "cell_type": "markdown",
   "metadata": {},
   "source": [
    "## 5. Final model evaluation"
   ]
  }
 ],
 "metadata": {
  "kernelspec": {
   "display_name": ".venv",
   "language": "python",
   "name": "python3"
  },
  "language_info": {
   "codemirror_mode": {
    "name": "ipython",
    "version": 3
   },
   "file_extension": ".py",
   "mimetype": "text/x-python",
   "name": "python",
   "nbconvert_exporter": "python",
   "pygments_lexer": "ipython3",
   "version": "3.10.15"
  },
  "orig_nbformat": 4
 },
 "nbformat": 4,
 "nbformat_minor": 2
}
