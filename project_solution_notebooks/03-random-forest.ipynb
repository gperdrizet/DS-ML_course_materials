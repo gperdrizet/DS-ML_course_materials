{
 "cells": [
  {
   "cell_type": "markdown",
   "metadata": {},
   "source": [
    "# Random forest classifier: diabetes prediction\n",
    "\n",
    "## 1. Data acquisition"
   ]
  },
  {
   "cell_type": "code",
   "execution_count": 1,
   "metadata": {},
   "outputs": [],
   "source": [
    "# Handle imports up-front\n",
    "\n",
    "# Standard library imports\n",
    "import pickle\n",
    "\n",
    "# PyPI imports\n",
    "import numpy as np\n",
    "import pandas as pd\n",
    "import matplotlib.pyplot as plt\n",
    "\n",
    "from scipy.stats import uniform, norm, randint\n",
    "from sklearn.metrics import accuracy_score\n",
    "from sklearn.model_selection import train_test_split, cross_val_score, StratifiedKFold, RandomizedSearchCV\n",
    "from sklearn.ensemble import RandomForestClassifier\n",
    "from sklearn.model_selection import GridSearchCV\n",
    "\n",
    "# Internal imports\n",
    "from helper_functions.random_forest import cross_val\n",
    "from helper_functions.random_forest import plot_hyperparameter_tuning\n",
    "from helper_functions.random_forest import plot_cross_validation"
   ]
  },
  {
   "cell_type": "markdown",
   "metadata": {},
   "source": [
    "### 1.1. Load the data"
   ]
  },
  {
   "cell_type": "code",
   "execution_count": 2,
   "metadata": {},
   "outputs": [],
   "source": [
    "# Load the cleaned and processed data from the decision tree notebook\n",
    "data_file='../data/processed_data/diabetes_data.pkl'\n",
    "\n",
    "with open(data_file, 'rb') as input_data:\n",
    "    training_features, testing_features, training_labels, testing_labels=pickle.load(input_data)"
   ]
  },
  {
   "cell_type": "markdown",
   "metadata": {},
   "source": [
    "### 1.2. Inspect the data"
   ]
  },
  {
   "cell_type": "code",
   "execution_count": 3,
   "metadata": {},
   "outputs": [
    {
     "data": {
      "text/html": [
       "<div>\n",
       "<style scoped>\n",
       "    .dataframe tbody tr th:only-of-type {\n",
       "        vertical-align: middle;\n",
       "    }\n",
       "\n",
       "    .dataframe tbody tr th {\n",
       "        vertical-align: top;\n",
       "    }\n",
       "\n",
       "    .dataframe thead th {\n",
       "        text-align: right;\n",
       "    }\n",
       "</style>\n",
       "<table border=\"1\" class=\"dataframe\">\n",
       "  <thead>\n",
       "    <tr style=\"text-align: right;\">\n",
       "      <th></th>\n",
       "      <th>Glucose</th>\n",
       "      <th>Insulin</th>\n",
       "      <th>BMI</th>\n",
       "      <th>Age</th>\n",
       "    </tr>\n",
       "  </thead>\n",
       "  <tbody>\n",
       "    <tr>\n",
       "      <th>0</th>\n",
       "      <td>115.0</td>\n",
       "      <td>191.908591</td>\n",
       "      <td>24.0</td>\n",
       "      <td>34.0</td>\n",
       "    </tr>\n",
       "    <tr>\n",
       "      <th>1</th>\n",
       "      <td>142.0</td>\n",
       "      <td>190.000000</td>\n",
       "      <td>28.8</td>\n",
       "      <td>61.0</td>\n",
       "    </tr>\n",
       "    <tr>\n",
       "      <th>2</th>\n",
       "      <td>116.0</td>\n",
       "      <td>87.000000</td>\n",
       "      <td>22.1</td>\n",
       "      <td>37.0</td>\n",
       "    </tr>\n",
       "    <tr>\n",
       "      <th>3</th>\n",
       "      <td>126.0</td>\n",
       "      <td>136.054026</td>\n",
       "      <td>30.1</td>\n",
       "      <td>47.0</td>\n",
       "    </tr>\n",
       "    <tr>\n",
       "      <th>4</th>\n",
       "      <td>78.0</td>\n",
       "      <td>42.050901</td>\n",
       "      <td>32.5</td>\n",
       "      <td>39.0</td>\n",
       "    </tr>\n",
       "  </tbody>\n",
       "</table>\n",
       "</div>"
      ],
      "text/plain": [
       "   Glucose     Insulin   BMI   Age\n",
       "0    115.0  191.908591  24.0  34.0\n",
       "1    142.0  190.000000  28.8  61.0\n",
       "2    116.0   87.000000  22.1  37.0\n",
       "3    126.0  136.054026  30.1  47.0\n",
       "4     78.0   42.050901  32.5  39.0"
      ]
     },
     "execution_count": 3,
     "metadata": {},
     "output_type": "execute_result"
    }
   ],
   "source": [
    "training_features.head()"
   ]
  },
  {
   "cell_type": "code",
   "execution_count": 4,
   "metadata": {},
   "outputs": [
    {
     "name": "stdout",
     "output_type": "stream",
     "text": [
      "<class 'pandas.core.frame.DataFrame'>\n",
      "RangeIndex: 514 entries, 0 to 513\n",
      "Data columns (total 4 columns):\n",
      " #   Column   Non-Null Count  Dtype  \n",
      "---  ------   --------------  -----  \n",
      " 0   Glucose  514 non-null    float64\n",
      " 1   Insulin  514 non-null    float64\n",
      " 2   BMI      514 non-null    float64\n",
      " 3   Age      514 non-null    float64\n",
      "dtypes: float64(4)\n",
      "memory usage: 16.2 KB\n"
     ]
    }
   ],
   "source": [
    "training_features.info()"
   ]
  },
  {
   "cell_type": "code",
   "execution_count": 5,
   "metadata": {},
   "outputs": [
    {
     "data": {
      "text/plain": [
       "0    0\n",
       "1    0\n",
       "2    0\n",
       "3    1\n",
       "4    0\n",
       "Name: Outcome, dtype: int64"
      ]
     },
     "execution_count": 5,
     "metadata": {},
     "output_type": "execute_result"
    }
   ],
   "source": [
    "training_labels.head()"
   ]
  },
  {
   "cell_type": "code",
   "execution_count": 6,
   "metadata": {},
   "outputs": [
    {
     "name": "stdout",
     "output_type": "stream",
     "text": [
      "<class 'pandas.core.series.Series'>\n",
      "RangeIndex: 514 entries, 0 to 513\n",
      "Series name: Outcome\n",
      "Non-Null Count  Dtype\n",
      "--------------  -----\n",
      "514 non-null    int64\n",
      "dtypes: int64(1)\n",
      "memory usage: 4.1 KB\n"
     ]
    }
   ],
   "source": [
    "training_labels.info()"
   ]
  },
  {
   "cell_type": "markdown",
   "metadata": {},
   "source": [
    "## 2. Model optimization"
   ]
  },
  {
   "cell_type": "code",
   "execution_count": 7,
   "metadata": {},
   "outputs": [],
   "source": [
    "# Start a dictionary to hold optimization experiment results\n",
    "hyperparameter_experiments={}"
   ]
  },
  {
   "cell_type": "markdown",
   "metadata": {},
   "source": [
    "### 2.1. Baseline model performance"
   ]
  },
  {
   "cell_type": "code",
   "execution_count": 8,
   "metadata": {},
   "outputs": [
    {
     "name": "stdout",
     "output_type": "stream",
     "text": [
      "Cross-validation accuracy: 75.87 +/- 1.96%\n"
     ]
    }
   ],
   "source": [
    "# Instantiate a random forest classifier model\n",
    "model=RandomForestClassifier(random_state=315)\n",
    "\n",
    "# Run the cross-validation\n",
    "scores=cross_val(model, training_features, training_labels)\n",
    "\n",
    "# Collect the results\n",
    "hyperparameter_experiments['Baseline']=scores * 100"
   ]
  },
  {
   "cell_type": "markdown",
   "metadata": {},
   "source": [
    "### 2.2. Hyperparameter optimization: criterion, bootstrap and class weight"
   ]
  },
  {
   "cell_type": "code",
   "execution_count": 9,
   "metadata": {},
   "outputs": [
    {
     "name": "stdout",
     "output_type": "stream",
     "text": [
      "Best hyperparameters: {'bootstrap': False, 'class_weight': 'balanced', 'criterion': 'gini'}\n"
     ]
    }
   ],
   "source": [
    "model=RandomForestClassifier(random_state=315)\n",
    "\n",
    "distributions={\n",
    "    'criterion': ['gini', 'entropy', 'log_loss'],\n",
    "    'bootstrap': [True, False],\n",
    "    'class_weight': [None, 'balanced', 'balanced_subsample']\n",
    "}\n",
    "\n",
    "# Define the cross-validation strategy\n",
    "cv_method=StratifiedKFold(n_splits=7, shuffle=True, random_state=315)\n",
    "\n",
    "grid=GridSearchCV(\n",
    "    model,\n",
    "    distributions,\n",
    "    scoring='accuracy',\n",
    "    n_jobs=-1,\n",
    "    cv=cv_method,\n",
    "    return_train_score=True\n",
    ")\n",
    "\n",
    "round_one_results=grid.fit(training_features, training_labels)\n",
    "print(f'Best hyperparameters: {round_one_results.best_params_}')"
   ]
  },
  {
   "cell_type": "code",
   "execution_count": 10,
   "metadata": {},
   "outputs": [
    {
     "data": {
      "image/png": "[encoded data removed]",
      "text/plain": [
       "<Figure size 640x480 with 1 Axes>"
      ]
     },
     "metadata": {},
     "output_type": "display_data"
    }
   ],
   "source": [
    "plot_hyperparameter_tuning(round_one_results).show()"
   ]
  },
  {
   "cell_type": "code",
   "execution_count": 11,
   "metadata": {},
   "outputs": [
    {
     "name": "stdout",
     "output_type": "stream",
     "text": [
      "Cross-validation accuracy: 76.7 +/- 5.2%\n"
     ]
    }
   ],
   "source": [
    "# Instantiate a model using the winning parameters\n",
    "model=RandomForestClassifier(\n",
    "    **round_one_results.best_params_,\n",
    "    random_state=315\n",
    ")\n",
    "\n",
    "# Run cross-validation on the best model\n",
    "scores=cross_val_score(\n",
    "    model,\n",
    "    training_features,\n",
    "    training_labels,\n",
    "    cv=cv_method,\n",
    "    n_jobs=-1,\n",
    "    scoring='accuracy'\n",
    ")\n",
    "\n",
    "# Collect the scores so we can plot and compare later\n",
    "hyperparameter_experiments['Hyperparameter\\noptimization\\nround 1']=scores * 100\n",
    "print(f'Cross-validation accuracy: {(np.median(scores) * 100):.1f} +/- {(scores.std() * 100):.1f}%')"
   ]
  },
  {
   "cell_type": "markdown",
   "metadata": {},
   "source": [
    "### 2.3. Other hyperparameters"
   ]
  },
  {
   "cell_type": "code",
   "execution_count": 12,
   "metadata": {},
   "outputs": [
    {
     "name": "stdout",
     "output_type": "stream",
     "text": [
      "Best hyperparameters: {'ccp_alpha': 0.013337545258814865, 'max_depth': 34, 'min_impurity_decrease': 0.06800302355262472, 'min_samples_leaf': 2, 'min_samples_split': 25, 'min_weight_fraction_leaf': 0.2780688229643235, 'n_estimators': 117}\n"
     ]
    }
   ],
   "source": [
    "# Instantiate a model using the winning parameters from the first round\n",
    "# of hyperparameter optimization\n",
    "model=RandomForestClassifier(\n",
    "    **round_one_results.best_params_,\n",
    "    random_state=315\n",
    ")\n",
    "\n",
    "distributions={\n",
    "    'n_estimators': randint(1, 200),\n",
    "    'max_depth': randint(1, 51),\n",
    "    'min_samples_split': randint(2, 51),\n",
    "    'min_samples_leaf': randint(1, 51),\n",
    "    'min_weight_fraction_leaf': uniform(loc=0.0, scale=0.5),\n",
    "    'min_impurity_decrease': uniform(loc=0.0, scale=0.5),\n",
    "    'ccp_alpha': uniform(loc=0.0, scale=0.5)\n",
    "}\n",
    "\n",
    "grid=RandomizedSearchCV(\n",
    "    model,\n",
    "    distributions,\n",
    "    scoring='accuracy',\n",
    "    n_jobs=-1,\n",
    "    cv=cv_method,\n",
    "    n_iter=500,\n",
    "    random_state=315,\n",
    "    return_train_score=True\n",
    ")\n",
    "\n",
    "round_two_results=grid.fit(training_features, training_labels)\n",
    "print(f'Best hyperparameters: {round_two_results.best_params_}')"
   ]
  },
  {
   "cell_type": "code",
   "execution_count": 13,
   "metadata": {},
   "outputs": [
    {
     "data": {
      "image/png": "[encoded data removed]",
      "text/plain": [
       "<Figure size 640x480 with 1 Axes>"
      ]
     },
     "metadata": {},
     "output_type": "display_data"
    }
   ],
   "source": [
    "plot_hyperparameter_tuning(round_two_results).show()"
   ]
  },
  {
   "cell_type": "code",
   "execution_count": 14,
   "metadata": {},
   "outputs": [
    {
     "name": "stdout",
     "output_type": "stream",
     "text": [
      "Cross-validation accuracy: 74.3 +/- 4.2%\n"
     ]
    }
   ],
   "source": [
    "# Instantiate a model using the winning parameters\n",
    "model=RandomForestClassifier(\n",
    "    **round_one_results.best_params_,\n",
    "    **round_two_results.best_params_,\n",
    "    random_state=315\n",
    ")\n",
    "\n",
    "# Run cross-validation on the best model\n",
    "scores=cross_val_score(\n",
    "    model,\n",
    "    training_features,\n",
    "    training_labels,\n",
    "    cv=cv_method,\n",
    "    n_jobs=-1,\n",
    "    scoring='accuracy'\n",
    ")\n",
    "\n",
    "# Collect the scores so we can plot and compare later\n",
    "hyperparameter_experiments['Hyperparameter\\noptimization\\nround 2']=scores * 100\n",
    "print(f'Cross-validation accuracy: {(np.median(scores) * 100):.1f} +/- {(scores.std() * 100):.1f}%')"
   ]
  },
  {
   "cell_type": "code",
   "execution_count": 15,
   "metadata": {},
   "outputs": [
    {
     "data": {
      "image/png": "[encoded data removed]",
      "text/plain": [
       "<Figure size 640x480 with 1 Axes>"
      ]
     },
     "metadata": {},
     "output_type": "display_data"
    }
   ],
   "source": [
    "plot_cross_validation('Hyperparameter optimization experiments', hyperparameter_experiments).show()"
   ]
  },
  {
   "cell_type": "markdown",
   "metadata": {},
   "source": [
    "## 3. Model evaluation\n",
    "\n",
    "### 3.1. Evaluate model on test data"
   ]
  },
  {
   "cell_type": "code",
   "execution_count": 16,
   "metadata": {},
   "outputs": [],
   "source": [
    "# Finally, train the model on all of the training data at once\n",
    "model=RandomForestClassifier(\n",
    "    **round_one_results.best_params_,\n",
    "    **round_two_results.best_params_,\n",
    "    random_state=315\n",
    ")\n",
    "\n",
    "fit_result=model.fit(training_features, training_labels)"
   ]
  },
  {
   "cell_type": "code",
   "execution_count": 17,
   "metadata": {},
   "outputs": [
    {
     "name": "stdout",
     "output_type": "stream",
     "text": [
      "Model is 71.7% accurate on the test data\n"
     ]
    }
   ],
   "source": [
    "# Make predictions from test set features\n",
    "predicted_labels=model.predict(testing_features)\n",
    "\n",
    "# Score predictions from accuracy\n",
    "percent_accuracy=accuracy_score(testing_labels, predicted_labels) * 100\n",
    "print(f'Model is {percent_accuracy:.1f}% accurate on the test data')"
   ]
  },
  {
   "cell_type": "markdown",
   "metadata": {},
   "source": [
    "### 3.2. Save model"
   ]
  },
  {
   "cell_type": "code",
   "execution_count": 21,
   "metadata": {},
   "outputs": [],
   "source": [
    "# Save the model\n",
    "model_output_file='../models/random_forest_diabetes_predictor.pkl'\n",
    "\n",
    "with open(model_output_file, 'wb') as output_file:\n",
    "    pickle.dump(model, output_file, protocol=pickle.HIGHEST_PROTOCOL)"
   ]
  },
  {
   "cell_type": "markdown",
   "metadata": {},
   "source": [
    "## 4. A note on interpretation & some statistics\n",
    "\n",
    "As a professional data scientist, in addition to making the model as accurate as possible, we want to have a good estimate of how accurate it will be on unseen test data. With our cross-validation results, we can take advantage of some simple statistics to talk about probabilities and confidence intervals. \n",
    "\n",
    "### 4.1. Confidence intervals on model performance\n",
    "\n",
    "The first useful thing to look at is a confidence interval around the cross-validation performance:"
   ]
  },
  {
   "cell_type": "code",
   "execution_count": 18,
   "metadata": {},
   "outputs": [
    {
     "name": "stdout",
     "output_type": "stream",
     "text": [
      "95% CI = 65.0% - 81.6% accuracy\n"
     ]
    }
   ],
   "source": [
    "lower_bound, upper_bound=norm.interval(0.95, loc=scores.mean(), scale=scores.std())\n",
    "print(f'95% CI = {lower_bound*100:.1f}% - {upper_bound*100:.1f}% accuracy')"
   ]
  },
  {
   "cell_type": "markdown",
   "metadata": {},
   "source": [
    "### 4.2. Likelihood of test results"
   ]
  },
  {
   "cell_type": "markdown",
   "metadata": {},
   "source": [
    "We can also use SciPy's stats module to calculate the probability of the test set result we observed, given our cross-validation results. Doing so will give us a nice way to quantify how well we are estimating true out-of-sample performance. If our test score is likely, we are in good shape. If the test result is very unlikely then something is probably wrong.\n",
    "\n",
    "For example, if our test result is 76.0% accuracy, did we do a good job estimating out-of-sample performance with cross-validation?"
   ]
  },
  {
   "cell_type": "code",
   "execution_count": 19,
   "metadata": {},
   "outputs": [
    {
     "name": "stdout",
     "output_type": "stream",
     "text": [
      "Probability: 36.9%\n"
     ]
    }
   ],
   "source": [
    "# Use your test set accuracy here\n",
    "testing_percent_accuracy=percent_accuracy\n",
    "\n",
    "# Convert the test accuracy to a z-score using the mean and standard \n",
    "# deviation from the cross-validation\n",
    "z_score=((testing_percent_accuracy/100) - scores.mean()) / scores.std()\n",
    "\n",
    "# Use the standard normal distribution's probability density function to\n",
    "# get the probability of observing our testing accuracy score\n",
    "probability=norm.pdf(z_score)\n",
    "\n",
    "print(f'Probability: {probability*100:.1f}%')"
   ]
  },
  {
   "cell_type": "markdown",
   "metadata": {},
   "source": [
    "For example - what would happen if our test result was only 68.0% accurate - just outside our 95% confidence interval?"
   ]
  },
  {
   "cell_type": "code",
   "execution_count": 20,
   "metadata": {},
   "outputs": [
    {
     "name": "stdout",
     "output_type": "stream",
     "text": [
      "Probability: 18.0%\n"
     ]
    }
   ],
   "source": [
    "testing_percent_accuracy=68.0\n",
    "\n",
    "z_score=((testing_percent_accuracy/100) - scores.mean()) / scores.std()\n",
    "probability=norm.pdf(z_score)\n",
    "\n",
    "print(f'Probability: {probability*100:.1f}%')"
   ]
  }
 ],
 "metadata": {
  "kernelspec": {
   "display_name": ".venv",
   "language": "python",
   "name": "python3"
  },
  "language_info": {
   "codemirror_mode": {
    "name": "ipython",
    "version": 3
   },
   "file_extension": ".py",
   "mimetype": "text/x-python",
   "name": "python",
   "nbconvert_exporter": "python",
   "pygments_lexer": "ipython3",
   "version": "3.10.16"
  },
  "orig_nbformat": 4
 },
 "nbformat": 4,
 "nbformat_minor": 2
}
