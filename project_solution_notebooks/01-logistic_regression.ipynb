{
 "cells": [
  {
   "cell_type": "markdown",
   "metadata": {},
   "source": [
    "# Logistic Regression: Banking Marketing Campaign\n",
    "\n",
    "**TODO**\n",
    "\n",
    "1. Replace text feature composition output with plots\n",
    "2. Refactor month/day encoding and feature composition helper functions to utils.py\n",
    "3. ~~Set notebook wide random seed~~\n",
    "4. Do hyperparameter optimization on class weight with MCC loss\n",
    "5. Penalty defaults to *l2* - should we be running with *None* and possibly discussing over-fitting?\n",
    "6. Re: #5, should we be introducing cross-validation here or later?\n",
    "6. Run final model on test data\n",
    "\n",
    "## 1. Data Acquisition & EDA\n",
    "\n",
    "### 1.1. Load the data"
   ]
  },
  {
   "cell_type": "code",
   "execution_count": 1,
   "metadata": {},
   "outputs": [],
   "source": [
    "import pandas as pd\n",
    "\n",
    "# Set notebook wide random seed - this makes the random number generator deterministic - we should get the same\n",
    "# result every time we run things with randomness, e.g. test-train split\n",
    "random_seed=315\n",
    "\n",
    "# Read the data into a pandas dataframe from the URL\n",
    "data_url='https://raw.githubusercontent.com/4GeeksAcademy/logistic-regression-project-tutorial/main/bank-marketing-campaign-data.csv'\n",
    "data_df=pd.read_csv(data_url, sep=';')"
   ]
  },
  {
   "cell_type": "markdown",
   "metadata": {},
   "source": [
    "### 1.2. Train-test split\n",
    "\n",
    "First thing's first - train test split the data. During EDA and feature engineering we are going to dig into this dataset and we don't want **ANY** information from or about the test set going into the design of the data pipeline or model. This would compromise the validity of our test set. Remember, the test set exists to see how the model will perform on new data - in a real deployment, the model will be used to make predictions on new data as it comes in. To get a realistic proxy of that situation, we need to leave the test data completely unknown."
   ]
  },
  {
   "cell_type": "code",
   "execution_count": 2,
   "metadata": {},
   "outputs": [],
   "source": [
    "from sklearn.model_selection import train_test_split\n",
    "\n",
    "# First separate the features from the labels\n",
    "labels=data_df['y']\n",
    "features=data_df.drop('y', axis=1)\n",
    "\n",
    "# Do the test-train split\n",
    "training_features, testing_features, training_labels, testing_labels=train_test_split(\n",
    "    features,\n",
    "    labels,\n",
    "    test_size=0.33, \n",
    "    random_state=random_seed\n",
    ")"
   ]
  },
  {
   "cell_type": "markdown",
   "metadata": {},
   "source": [
    "Lots of data to work with here - some numerical features but also a lot of string/object types which are probably categorical and ordinal or interval. Let's take a closer look (**note**: looking at the training data only!):"
   ]
  },
  {
   "cell_type": "code",
   "execution_count": 3,
   "metadata": {},
   "outputs": [
    {
     "data": {
      "text/html": [
       "<div>\n",
       "<style scoped>\n",
       "    .dataframe tbody tr th:only-of-type {\n",
       "        vertical-align: middle;\n",
       "    }\n",
       "\n",
       "    .dataframe tbody tr th {\n",
       "        vertical-align: top;\n",
       "    }\n",
       "\n",
       "    .dataframe thead th {\n",
       "        text-align: right;\n",
       "    }\n",
       "</style>\n",
       "<table border=\"1\" class=\"dataframe\">\n",
       "  <thead>\n",
       "    <tr style=\"text-align: right;\">\n",
       "      <th></th>\n",
       "      <th>22762</th>\n",
       "      <th>5889</th>\n",
       "      <th>20999</th>\n",
       "      <th>24505</th>\n",
       "      <th>9191</th>\n",
       "    </tr>\n",
       "  </thead>\n",
       "  <tbody>\n",
       "    <tr>\n",
       "      <th>age</th>\n",
       "      <td>45</td>\n",
       "      <td>52</td>\n",
       "      <td>56</td>\n",
       "      <td>46</td>\n",
       "      <td>35</td>\n",
       "    </tr>\n",
       "    <tr>\n",
       "      <th>job</th>\n",
       "      <td>technician</td>\n",
       "      <td>blue-collar</td>\n",
       "      <td>blue-collar</td>\n",
       "      <td>admin.</td>\n",
       "      <td>unemployed</td>\n",
       "    </tr>\n",
       "    <tr>\n",
       "      <th>marital</th>\n",
       "      <td>divorced</td>\n",
       "      <td>married</td>\n",
       "      <td>married</td>\n",
       "      <td>married</td>\n",
       "      <td>married</td>\n",
       "    </tr>\n",
       "    <tr>\n",
       "      <th>education</th>\n",
       "      <td>professional.course</td>\n",
       "      <td>basic.4y</td>\n",
       "      <td>basic.4y</td>\n",
       "      <td>high.school</td>\n",
       "      <td>university.degree</td>\n",
       "    </tr>\n",
       "    <tr>\n",
       "      <th>default</th>\n",
       "      <td>no</td>\n",
       "      <td>no</td>\n",
       "      <td>no</td>\n",
       "      <td>unknown</td>\n",
       "      <td>no</td>\n",
       "    </tr>\n",
       "    <tr>\n",
       "      <th>housing</th>\n",
       "      <td>yes</td>\n",
       "      <td>yes</td>\n",
       "      <td>yes</td>\n",
       "      <td>no</td>\n",
       "      <td>no</td>\n",
       "    </tr>\n",
       "    <tr>\n",
       "      <th>loan</th>\n",
       "      <td>no</td>\n",
       "      <td>no</td>\n",
       "      <td>no</td>\n",
       "      <td>no</td>\n",
       "      <td>no</td>\n",
       "    </tr>\n",
       "    <tr>\n",
       "      <th>contact</th>\n",
       "      <td>cellular</td>\n",
       "      <td>telephone</td>\n",
       "      <td>cellular</td>\n",
       "      <td>cellular</td>\n",
       "      <td>telephone</td>\n",
       "    </tr>\n",
       "    <tr>\n",
       "      <th>month</th>\n",
       "      <td>aug</td>\n",
       "      <td>may</td>\n",
       "      <td>aug</td>\n",
       "      <td>nov</td>\n",
       "      <td>jun</td>\n",
       "    </tr>\n",
       "    <tr>\n",
       "      <th>day_of_week</th>\n",
       "      <td>mon</td>\n",
       "      <td>mon</td>\n",
       "      <td>thu</td>\n",
       "      <td>mon</td>\n",
       "      <td>fri</td>\n",
       "    </tr>\n",
       "    <tr>\n",
       "      <th>duration</th>\n",
       "      <td>112</td>\n",
       "      <td>253</td>\n",
       "      <td>366</td>\n",
       "      <td>76</td>\n",
       "      <td>360</td>\n",
       "    </tr>\n",
       "    <tr>\n",
       "      <th>campaign</th>\n",
       "      <td>2</td>\n",
       "      <td>2</td>\n",
       "      <td>1</td>\n",
       "      <td>3</td>\n",
       "      <td>2</td>\n",
       "    </tr>\n",
       "    <tr>\n",
       "      <th>pdays</th>\n",
       "      <td>999</td>\n",
       "      <td>999</td>\n",
       "      <td>999</td>\n",
       "      <td>999</td>\n",
       "      <td>999</td>\n",
       "    </tr>\n",
       "    <tr>\n",
       "      <th>previous</th>\n",
       "      <td>0</td>\n",
       "      <td>0</td>\n",
       "      <td>0</td>\n",
       "      <td>0</td>\n",
       "      <td>0</td>\n",
       "    </tr>\n",
       "    <tr>\n",
       "      <th>poutcome</th>\n",
       "      <td>nonexistent</td>\n",
       "      <td>nonexistent</td>\n",
       "      <td>nonexistent</td>\n",
       "      <td>nonexistent</td>\n",
       "      <td>nonexistent</td>\n",
       "    </tr>\n",
       "    <tr>\n",
       "      <th>emp.var.rate</th>\n",
       "      <td>1.4</td>\n",
       "      <td>1.1</td>\n",
       "      <td>1.4</td>\n",
       "      <td>-0.1</td>\n",
       "      <td>1.4</td>\n",
       "    </tr>\n",
       "    <tr>\n",
       "      <th>cons.price.idx</th>\n",
       "      <td>93.444</td>\n",
       "      <td>93.994</td>\n",
       "      <td>93.444</td>\n",
       "      <td>93.2</td>\n",
       "      <td>94.465</td>\n",
       "    </tr>\n",
       "    <tr>\n",
       "      <th>cons.conf.idx</th>\n",
       "      <td>-36.1</td>\n",
       "      <td>-36.4</td>\n",
       "      <td>-36.1</td>\n",
       "      <td>-42.0</td>\n",
       "      <td>-41.8</td>\n",
       "    </tr>\n",
       "    <tr>\n",
       "      <th>euribor3m</th>\n",
       "      <td>4.965</td>\n",
       "      <td>4.857</td>\n",
       "      <td>4.964</td>\n",
       "      <td>4.191</td>\n",
       "      <td>4.967</td>\n",
       "    </tr>\n",
       "    <tr>\n",
       "      <th>nr.employed</th>\n",
       "      <td>5228.1</td>\n",
       "      <td>5191.0</td>\n",
       "      <td>5228.1</td>\n",
       "      <td>5195.8</td>\n",
       "      <td>5228.1</td>\n",
       "    </tr>\n",
       "  </tbody>\n",
       "</table>\n",
       "</div>"
      ],
      "text/plain": [
       "                              22762        5889         20999        24505  \\\n",
       "age                              45           52           56           46   \n",
       "job                      technician  blue-collar  blue-collar       admin.   \n",
       "marital                    divorced      married      married      married   \n",
       "education       professional.course     basic.4y     basic.4y  high.school   \n",
       "default                          no           no           no      unknown   \n",
       "housing                         yes          yes          yes           no   \n",
       "loan                             no           no           no           no   \n",
       "contact                    cellular    telephone     cellular     cellular   \n",
       "month                           aug          may          aug          nov   \n",
       "day_of_week                     mon          mon          thu          mon   \n",
       "duration                        112          253          366           76   \n",
       "campaign                          2            2            1            3   \n",
       "pdays                           999          999          999          999   \n",
       "previous                          0            0            0            0   \n",
       "poutcome                nonexistent  nonexistent  nonexistent  nonexistent   \n",
       "emp.var.rate                    1.4          1.1          1.4         -0.1   \n",
       "cons.price.idx               93.444       93.994       93.444         93.2   \n",
       "cons.conf.idx                 -36.1        -36.4        -36.1        -42.0   \n",
       "euribor3m                     4.965        4.857        4.964        4.191   \n",
       "nr.employed                  5228.1       5191.0       5228.1       5195.8   \n",
       "\n",
       "                            9191   \n",
       "age                            35  \n",
       "job                    unemployed  \n",
       "marital                   married  \n",
       "education       university.degree  \n",
       "default                        no  \n",
       "housing                        no  \n",
       "loan                           no  \n",
       "contact                 telephone  \n",
       "month                         jun  \n",
       "day_of_week                   fri  \n",
       "duration                      360  \n",
       "campaign                        2  \n",
       "pdays                         999  \n",
       "previous                        0  \n",
       "poutcome              nonexistent  \n",
       "emp.var.rate                  1.4  \n",
       "cons.price.idx             94.465  \n",
       "cons.conf.idx               -41.8  \n",
       "euribor3m                   4.967  \n",
       "nr.employed                5228.1  "
      ]
     },
     "execution_count": 3,
     "metadata": {},
     "output_type": "execute_result"
    }
   ],
   "source": [
    "# Inspect the first few rows, transposing so columns don't get cut off\n",
    "training_features.head().transpose()"
   ]
  },
  {
   "cell_type": "markdown",
   "metadata": {},
   "source": [
    "Beyond the Pandas data types, we have a few different kinds of variables here in the statistical sense:\n",
    "\n",
    "1. **Ordinal**: 'categorical' variables like *education* which have a natural order, but no quantitative interval or magnitude.\n",
    "2. **Interval**: for example, *month* has defined degrees of difference between the categories. \n",
    "3. **Nominal**: things like *marital* which have categories only, no obvious quantity or order.\n",
    "\n",
    "These types in particular will be interesting, because we will need to handle encoding them to numerical features differently based on their properties. I also see several discrete and continuous random variables like *age* and *duration*.\n",
    "\n",
    "There are a couple of other features that peak my interest too, but in terms of data quality:\n",
    "\n",
    "1. *poutcome*: first 5 values are 'nonexistent' - I assume that means we don't know the outcome of the previous marketing campaign?\n",
    "2. *day_of_week* (and others): is Monday call day and this feature is constant - cant tell from *head()*?\n",
    "3. *pdays*: is 999 some kind of place holder for missing data? Is this value maybe constant too?\n",
    "\n",
    "Let's check how many unique values we have for each feature. This information will guide us in deciding how to encode the data for regression and if we should drop any features from the get-go.\n",
    "\n",
    "### 1.2. Unique and/or missing values"
   ]
  },
  {
   "cell_type": "code",
   "execution_count": 4,
   "metadata": {},
   "outputs": [
    {
     "data": {
      "text/plain": [
       "age                 76\n",
       "job                 12\n",
       "marital              4\n",
       "education            8\n",
       "default              3\n",
       "housing              3\n",
       "loan                 3\n",
       "contact              2\n",
       "month               10\n",
       "day_of_week          5\n",
       "duration          1412\n",
       "campaign            41\n",
       "pdays               25\n",
       "previous             8\n",
       "poutcome             3\n",
       "emp.var.rate        10\n",
       "cons.price.idx      26\n",
       "cons.conf.idx       26\n",
       "euribor3m          310\n",
       "nr.employed         11\n",
       "dtype: int64"
      ]
     },
     "execution_count": 4,
     "metadata": {},
     "output_type": "execute_result"
    }
   ],
   "source": [
    "training_features.nunique()"
   ]
  },
  {
   "cell_type": "markdown",
   "metadata": {},
   "source": [
    "OK, not so bad. Looks like calls happen on weekdays - 5 unique values. No constant columns that are begging to be dropped. I'm still curious about *default*, *housing*, *loan* and *poutcome* - it seems like they should be binary but each has three values - I bet it's missing data. Looking at the few rows we inspected above it seems like the string 'unknown' is being used for missing data. Let's find out how much data is missing."
   ]
  },
  {
   "cell_type": "code",
   "execution_count": 5,
   "metadata": {},
   "outputs": [],
   "source": [
    "# Define a reusable helper function here, since we will be looking at feature composition a lot\n",
    "def feature_composition(df: pd.DataFrame, features: list) -> None:\n",
    "    '''Takes a dataframe and a list of features. Prints out\n",
    "    the unique levels of that feature with their count and \n",
    "    percent.'''\n",
    "\n",
    "    for i, column_name in enumerate(features):\n",
    "        value_counts=df[column_name].value_counts().T.to_dict()\n",
    "\n",
    "        print(f'\\nFeature: {column_name}')\n",
    "\n",
    "        for key, value in value_counts.items():\n",
    "            percent_value=(value/len(data_df)) * 100\n",
    "            print(f' {key}: {value} ({percent_value:.1f}%)')"
   ]
  },
  {
   "cell_type": "code",
   "execution_count": 6,
   "metadata": {},
   "outputs": [
    {
     "name": "stdout",
     "output_type": "stream",
     "text": [
      "\n",
      "Feature: default\n",
      " no: 21808 (52.9%)\n",
      " unknown: 5785 (14.0%)\n",
      " yes: 2 (0.0%)\n",
      "\n",
      "Feature: housing\n",
      " yes: 14415 (35.0%)\n",
      " no: 12505 (30.4%)\n",
      " unknown: 675 (1.6%)\n",
      "\n",
      "Feature: loan\n",
      " no: 22736 (55.2%)\n",
      " yes: 4184 (10.2%)\n",
      " unknown: 675 (1.6%)\n",
      "\n",
      "Feature: poutcome\n",
      " nonexistent: 23810 (57.8%)\n",
      " failure: 2853 (6.9%)\n",
      " success: 932 (2.3%)\n"
     ]
    }
   ],
   "source": [
    "feature_composition(training_features, ['default','housing','loan','poutcome'])"
   ]
  },
  {
   "cell_type": "markdown",
   "metadata": {},
   "source": [
    "We have very, very few *defaults* - this column is a good candidate for exclusion based on low entropy. It's mostly missing or 'no' - probably not adding much information. Interestingly, both *housing* and *loan* are missing a large number of rows. We could maybe drop those examples as missing/bad data. Let's look at the weird '999' value in *pdays*. I bet that's a placeholder of some kind too."
   ]
  },
  {
   "cell_type": "code",
   "execution_count": 7,
   "metadata": {},
   "outputs": [
    {
     "name": "stdout",
     "output_type": "stream",
     "text": [
      "\n",
      "Feature: pdays\n",
      " 999: 26567 (64.5%)\n",
      " 3: 291 (0.7%)\n",
      " 6: 280 (0.7%)\n",
      " 4: 83 (0.2%)\n",
      " 9: 46 (0.1%)\n",
      " 7: 41 (0.1%)\n",
      " 2: 40 (0.1%)\n",
      " 12: 39 (0.1%)\n",
      " 10: 35 (0.1%)\n",
      " 5: 33 (0.1%)\n",
      " 13: 21 (0.1%)\n",
      " 1: 18 (0.0%)\n",
      " 11: 18 (0.0%)\n",
      " 14: 17 (0.0%)\n",
      " 8: 13 (0.0%)\n",
      " 15: 12 (0.0%)\n",
      " 0: 11 (0.0%)\n",
      " 16: 9 (0.0%)\n",
      " 17: 8 (0.0%)\n",
      " 18: 6 (0.0%)\n",
      " 22: 2 (0.0%)\n",
      " 19: 2 (0.0%)\n",
      " 27: 1 (0.0%)\n",
      " 25: 1 (0.0%)\n",
      " 26: 1 (0.0%)\n"
     ]
    }
   ],
   "source": [
    "feature_composition(training_features, ['pdays'])"
   ]
  },
  {
   "cell_type": "markdown",
   "metadata": {},
   "source": [
    "Ok, now this makes sense - from the metadata, *pdays* is 'Number of days that elapsed since the last campaign until the customer was contacted (numeric)'. The 999 value is probably missing data here too, but it also could be for people who we have data for but were not included in the previous campaign - this qualitatively tracks with the large percentage of people for which the outcome of the previous campaign is unknown. Whatever the explanation, this is a fairly low entropy column too.\n",
    "\n",
    "## 2. Feature engineering\n",
    "\n",
    "### 2.1. Feature drops\n",
    "\n",
    "I think the first thing we should do it just get rid of features related to the previous campaign - I don't think there is enough data about it to be meaningful. This way we loose some low entropy features and make the model simpler, without giving up any rows. Less is more."
   ]
  },
  {
   "cell_type": "code",
   "execution_count": 8,
   "metadata": {},
   "outputs": [
    {
     "name": "stdout",
     "output_type": "stream",
     "text": [
      "<class 'pandas.core.frame.DataFrame'>\n",
      "Index: 27595 entries, 22762 to 29283\n",
      "Data columns (total 17 columns):\n",
      " #   Column          Non-Null Count  Dtype  \n",
      "---  ------          --------------  -----  \n",
      " 0   age             27595 non-null  int64  \n",
      " 1   job             27595 non-null  object \n",
      " 2   marital         27595 non-null  object \n",
      " 3   education       27595 non-null  object \n",
      " 4   default         27595 non-null  object \n",
      " 5   housing         27595 non-null  object \n",
      " 6   loan            27595 non-null  object \n",
      " 7   contact         27595 non-null  object \n",
      " 8   month           27595 non-null  object \n",
      " 9   day_of_week     27595 non-null  object \n",
      " 10  duration        27595 non-null  int64  \n",
      " 11  campaign        27595 non-null  int64  \n",
      " 12  emp.var.rate    27595 non-null  float64\n",
      " 13  cons.price.idx  27595 non-null  float64\n",
      " 14  cons.conf.idx   27595 non-null  float64\n",
      " 15  euribor3m       27595 non-null  float64\n",
      " 16  nr.employed     27595 non-null  float64\n",
      "dtypes: float64(5), int64(3), object(9)\n",
      "memory usage: 3.8+ MB\n"
     ]
    }
   ],
   "source": [
    "# Names of columns to drop\n",
    "column_drops=['poutcome', 'pdays', 'previous']\n",
    "\n",
    "# Do the drops\n",
    "training_features.drop(column_drops, axis=1, inplace=True)\n",
    "\n",
    "# Do the same thing to the testing data\n",
    "testing_features.drop(column_drops, axis=1, inplace=True)\n",
    "\n",
    "# Take a look\n",
    "training_features.info()"
   ]
  },
  {
   "cell_type": "markdown",
   "metadata": {},
   "source": [
    "### 2.2. Feature encoding\n",
    "#### 2.2.1. Categorical/interval features\n",
    "\n",
    "Next, let's deal with the time features. Interval time features are better encoded with sin/cos components than single numbers - this method catches the 'near-ness' of Sunday to Monday or December to February where just numbering the months or days does not. If you are interested in cyclical encoding for time features check out [this Kaggle notebook](https://www.kaggle.com/code/avanwyk/encoding-cyclical-features-for-deep-learning).\n",
    "\n",
    "Here is what the features look like to start with:"
   ]
  },
  {
   "cell_type": "code",
   "execution_count": 9,
   "metadata": {},
   "outputs": [
    {
     "name": "stdout",
     "output_type": "stream",
     "text": [
      "\n",
      "Feature: day_of_week\n",
      " thu: 5790 (14.1%)\n",
      " mon: 5690 (13.8%)\n",
      " wed: 5423 (13.2%)\n",
      " tue: 5402 (13.1%)\n",
      " fri: 5290 (12.8%)\n"
     ]
    }
   ],
   "source": [
    "feature_composition(training_features, ['day_of_week'])"
   ]
  },
  {
   "cell_type": "code",
   "execution_count": 10,
   "metadata": {},
   "outputs": [
    {
     "name": "stdout",
     "output_type": "stream",
     "text": [
      "\n",
      "Feature: month\n",
      " may: 9143 (22.2%)\n",
      " jul: 4780 (11.6%)\n",
      " aug: 4161 (10.1%)\n",
      " jun: 3618 (8.8%)\n",
      " nov: 2772 (6.7%)\n",
      " apr: 1765 (4.3%)\n",
      " oct: 474 (1.2%)\n",
      " sep: 398 (1.0%)\n",
      " mar: 358 (0.9%)\n",
      " dec: 126 (0.3%)\n"
     ]
    }
   ],
   "source": [
    "feature_composition(training_features, ['month'])"
   ]
  },
  {
   "cell_type": "code",
   "execution_count": 11,
   "metadata": {},
   "outputs": [],
   "source": [
    "import numpy as np\n",
    "\n",
    "# Don't worry about downcasting FutureWarning\n",
    "pd.set_option('future.no_silent_downcasting', True)\n",
    "\n",
    "# Define a helper function here so we can encode the time\n",
    "# features the same way on the training and testing data\n",
    "# without copy-pasting the same code\n",
    "def encode_time_features(data_df: pd.DataFrame) -> pd.DataFrame:\n",
    "    '''Takes a Pandas dataframe and uses cyclical sin/cos to encode\n",
    "    month and day features. Returns updated dataframe.'''\n",
    "\n",
    "    # First convert the features to numeric\n",
    "    dict={'mon' : 1, 'tue' : 2, 'wed': 3, 'thu' : 4, 'fri': 5}\n",
    "    data_df=data_df.replace(dict)\n",
    "\n",
    "    dict={'jan' : 1, 'feb' : 2, 'mar': 3, 'apr' : 4, 'may': 5, 'jun': 6, 'jul': 7, 'aug': 8, 'sep': 9, 'oct': 10, 'nov': 11, 'dec': 12}\n",
    "    data_df=data_df.replace(dict)\n",
    "\n",
    "    # And fix the dtypes\n",
    "    data_df['day_of_week']=data_df['day_of_week'].astype(int)\n",
    "    data_df['month']=data_df['month'].astype(int)\n",
    "\n",
    "    # Now encode the day and month with sin/cos components\n",
    "    data_df['day_sin'] = np.sin(2 * np.pi * data_df['day_of_week']/7.0)\n",
    "    data_df['day_cos'] = np.cos(2 * np.pi * data_df['day_of_week']/7.0)\n",
    "\n",
    "    data_df['month_sin'] = np.sin(2 * np.pi * data_df['month']/12.0)\n",
    "    data_df['month_cos'] = np.cos(2 * np.pi * data_df['month']/12.0)\n",
    "\n",
    "    # Drop the original string features\n",
    "    data_df.drop(['month', 'day_of_week'], axis=1, inplace=True)\n",
    "\n",
    "    return data_df"
   ]
  },
  {
   "cell_type": "code",
   "execution_count": 12,
   "metadata": {},
   "outputs": [],
   "source": [
    "# Encode the training and testing features the same way\n",
    "training_features=encode_time_features(training_features)\n",
    "testing_features=encode_time_features(testing_features)"
   ]
  },
  {
   "cell_type": "markdown",
   "metadata": {},
   "source": [
    "#### 2.2.2. Categorical/ordinal feature\n",
    "\n",
    "Next, let's look at education and job and make sure we encode those in a way that makes sense. Here are their levels:"
   ]
  },
  {
   "cell_type": "code",
   "execution_count": 13,
   "metadata": {},
   "outputs": [
    {
     "name": "stdout",
     "output_type": "stream",
     "text": [
      "\n",
      "Feature: education\n",
      " university.degree: 8097 (19.7%)\n",
      " high.school: 6426 (15.6%)\n",
      " basic.9y: 4038 (9.8%)\n",
      " professional.course: 3465 (8.4%)\n",
      " basic.4y: 2834 (6.9%)\n",
      " basic.6y: 1568 (3.8%)\n",
      " unknown: 1154 (2.8%)\n",
      " illiterate: 13 (0.0%)\n"
     ]
    }
   ],
   "source": [
    "feature_composition(training_features, ['education'])"
   ]
  },
  {
   "cell_type": "markdown",
   "metadata": {},
   "source": [
    "Encode these in order of increasing education level:"
   ]
  },
  {
   "cell_type": "code",
   "execution_count": 14,
   "metadata": {},
   "outputs": [],
   "source": [
    "# Dictionary to translate employment string to numerical value\n",
    "dict={'unknown': 0, 'illiterate': 1, 'basic.4y': 2, 'basic.6y': 3, 'basic.9y': 4, 'high.school': 5, 'professional.course': 6, 'university.degree': 7}\n",
    "\n",
    "# Encode the training and testing data\n",
    "training_features=training_features.replace(dict)\n",
    "testing_features=testing_features.replace(dict)\n",
    "\n",
    "# Fix the dtypes\n",
    "training_features['education']=training_features['education'].astype(int)\n",
    "testing_features['education']=testing_features['education'].astype(int)\n"
   ]
  },
  {
   "cell_type": "markdown",
   "metadata": {},
   "source": [
    "And similarly for employment:"
   ]
  },
  {
   "cell_type": "code",
   "execution_count": 15,
   "metadata": {},
   "outputs": [
    {
     "name": "stdout",
     "output_type": "stream",
     "text": [
      "\n",
      "Feature: job\n",
      " admin.: 7002 (17.0%)\n",
      " blue-collar: 6225 (15.1%)\n",
      " technician: 4463 (10.8%)\n",
      " services: 2643 (6.4%)\n",
      " management: 1950 (4.7%)\n",
      " retired: 1177 (2.9%)\n",
      " entrepreneur: 995 (2.4%)\n",
      " self-employed: 932 (2.3%)\n",
      " housemaid: 708 (1.7%)\n",
      " unemployed: 686 (1.7%)\n",
      " student: 586 (1.4%)\n",
      " 0: 228 (0.6%)\n"
     ]
    }
   ],
   "source": [
    "feature_composition(training_features, ['job'])"
   ]
  },
  {
   "cell_type": "markdown",
   "metadata": {},
   "source": [
    "Was thinking that maybe we could do the same trick for employment - but it's hard to order the job types in a way that makes sense. If we could find where these classes came from - maybe some state department of labor statistics or something - we could maybe translate them to income level... But, let's leave it alone for now.\n",
    "\n",
    "#### 2.2.3. Categorical/nominal features\n",
    "\n",
    "For nominal features, we don't want to simply number the classes - this tells the model that they have a magnitude. For example, if we were to number the *housing* categories as follows:\n",
    "\n",
    "\n",
    "```bash\n",
    "unknown: 0\n",
    "yes: 1\n",
    "no: 2\n",
    "```\n",
    "\n",
    "it would imply that 'no' is somehow double 'yes' - makes no sense. The proper way to do this is with 'one hot' encoding. This technique uses a new binary categorical feature for each level of the original scale. Every example then gets a '1' to indicate it's level in the original feature. Here's what one hot encoding a few hypothetical examples for *housing* would look like:\n",
    "\n",
    "|          | housing_unknown | housing_yes | housing_no |\n",
    "|----------|-----------------|-------------|------------|\n",
    "| Person 1 |        1        |      0      |     0      |\n",
    "| Person 2 |        0        |      0      |     1      |\n",
    "| Person 3 |        0        |      1      |     0      |\n",
    "\n",
    "However, there is one issue with this: the above table looks intuitively good, but it introduces multicolinearity. Notice how the sum of all three one hot encoding features for any row is one? This is a problem for many machine learning models and is known as the 'dummy variable' problem. Without going into too much detail, we actually only need two one hot encoded variables to encode three feature levels and only four to encode five levels and so on. It's always one less than the original levels we are trying to encode. If you are interested in this topic check out this [Medium article](https://towardsdatascience.com/one-hot-encoding-multicollinearity-and-the-dummy-variable-trap-b5840be3c41a)\n",
    "\n",
    "Luckily, this type of encoding is a very common operation and Pandas *get_dummies()* can handle it for us - just be sure to set *drop_first* to **True**."
   ]
  },
  {
   "cell_type": "code",
   "execution_count": 16,
   "metadata": {},
   "outputs": [
    {
     "name": "stdout",
     "output_type": "stream",
     "text": [
      "<class 'pandas.core.frame.DataFrame'>\n",
      "Index: 27595 entries, 22762 to 29283\n",
      "Data columns (total 34 columns):\n",
      " #   Column             Non-Null Count  Dtype  \n",
      "---  ------             --------------  -----  \n",
      " 0   age                27595 non-null  int64  \n",
      " 1   education          27595 non-null  int64  \n",
      " 2   duration           27595 non-null  int64  \n",
      " 3   campaign           27595 non-null  int64  \n",
      " 4   emp.var.rate       27595 non-null  float64\n",
      " 5   cons.price.idx     27595 non-null  float64\n",
      " 6   cons.conf.idx      27595 non-null  float64\n",
      " 7   euribor3m          27595 non-null  float64\n",
      " 8   nr.employed        27595 non-null  float64\n",
      " 9   day_sin            27595 non-null  float64\n",
      " 10  day_cos            27595 non-null  float64\n",
      " 11  month_sin          27595 non-null  float64\n",
      " 12  month_cos          27595 non-null  float64\n",
      " 13  job_admin.         27595 non-null  int64  \n",
      " 14  job_blue-collar    27595 non-null  int64  \n",
      " 15  job_entrepreneur   27595 non-null  int64  \n",
      " 16  job_housemaid      27595 non-null  int64  \n",
      " 17  job_management     27595 non-null  int64  \n",
      " 18  job_retired        27595 non-null  int64  \n",
      " 19  job_self-employed  27595 non-null  int64  \n",
      " 20  job_services       27595 non-null  int64  \n",
      " 21  job_student        27595 non-null  int64  \n",
      " 22  job_technician     27595 non-null  int64  \n",
      " 23  job_unemployed     27595 non-null  int64  \n",
      " 24  marital_divorced   27595 non-null  int64  \n",
      " 25  marital_married    27595 non-null  int64  \n",
      " 26  marital_single     27595 non-null  int64  \n",
      " 27  default_no         27595 non-null  int64  \n",
      " 28  default_yes        27595 non-null  int64  \n",
      " 29  housing_no         27595 non-null  int64  \n",
      " 30  housing_yes        27595 non-null  int64  \n",
      " 31  loan_no            27595 non-null  int64  \n",
      " 32  loan_yes           27595 non-null  int64  \n",
      " 33  contact_telephone  27595 non-null  int64  \n",
      "dtypes: float64(9), int64(25)\n",
      "memory usage: 7.4 MB\n"
     ]
    }
   ],
   "source": [
    "# Names of columns we want to encode\n",
    "encoded_columns=['job','marital','default','housing','loan','contact']\n",
    "\n",
    "# Do the encoding\n",
    "training_features=pd.get_dummies(training_features, columns=encoded_columns, dtype=int, drop_first=True)\n",
    "testing_features=pd.get_dummies(testing_features, columns=encoded_columns, dtype=int, drop_first=True)\n",
    "\n",
    "training_features.info()"
   ]
  },
  {
   "cell_type": "markdown",
   "metadata": {},
   "source": [
    "### 2.3. Feature standardization\n",
    "\n",
    "Last feature engineering step will be to standardize our numerical features. The goal here is to bring all of the features into a similar range. Just because the values for *nr.employed* are larger than those for *euribor3m* does not mean it is more important. The important thing is the variation in those feature and their relationship to the target variable.\n",
    "\n",
    "For more information, check out the article on [preprocessing data](https://scikit-learn.org/stable/modules/preprocessing.html) from the scikit-learn documentation."
   ]
  },
  {
   "cell_type": "code",
   "execution_count": 17,
   "metadata": {},
   "outputs": [
    {
     "data": {
      "text/html": [
       "<div>\n",
       "<style scoped>\n",
       "    .dataframe tbody tr th:only-of-type {\n",
       "        vertical-align: middle;\n",
       "    }\n",
       "\n",
       "    .dataframe tbody tr th {\n",
       "        vertical-align: top;\n",
       "    }\n",
       "\n",
       "    .dataframe thead th {\n",
       "        text-align: right;\n",
       "    }\n",
       "</style>\n",
       "<table border=\"1\" class=\"dataframe\">\n",
       "  <thead>\n",
       "    <tr style=\"text-align: right;\">\n",
       "      <th></th>\n",
       "      <th>age</th>\n",
       "      <th>education</th>\n",
       "      <th>duration</th>\n",
       "      <th>campaign</th>\n",
       "      <th>emp.var.rate</th>\n",
       "      <th>cons.price.idx</th>\n",
       "      <th>cons.conf.idx</th>\n",
       "      <th>euribor3m</th>\n",
       "      <th>nr.employed</th>\n",
       "      <th>day_sin</th>\n",
       "      <th>...</th>\n",
       "      <th>marital_divorced</th>\n",
       "      <th>marital_married</th>\n",
       "      <th>marital_single</th>\n",
       "      <th>default_no</th>\n",
       "      <th>default_yes</th>\n",
       "      <th>housing_no</th>\n",
       "      <th>housing_yes</th>\n",
       "      <th>loan_no</th>\n",
       "      <th>loan_yes</th>\n",
       "      <th>contact_telephone</th>\n",
       "    </tr>\n",
       "  </thead>\n",
       "  <tbody>\n",
       "    <tr>\n",
       "      <th>22762</th>\n",
       "      <td>45</td>\n",
       "      <td>6</td>\n",
       "      <td>112</td>\n",
       "      <td>2</td>\n",
       "      <td>1.4</td>\n",
       "      <td>93.444</td>\n",
       "      <td>-36.1</td>\n",
       "      <td>4.965</td>\n",
       "      <td>5228.1</td>\n",
       "      <td>0.781831</td>\n",
       "      <td>...</td>\n",
       "      <td>1</td>\n",
       "      <td>0</td>\n",
       "      <td>0</td>\n",
       "      <td>1</td>\n",
       "      <td>0</td>\n",
       "      <td>0</td>\n",
       "      <td>1</td>\n",
       "      <td>1</td>\n",
       "      <td>0</td>\n",
       "      <td>0</td>\n",
       "    </tr>\n",
       "    <tr>\n",
       "      <th>5889</th>\n",
       "      <td>52</td>\n",
       "      <td>2</td>\n",
       "      <td>253</td>\n",
       "      <td>2</td>\n",
       "      <td>1.1</td>\n",
       "      <td>93.994</td>\n",
       "      <td>-36.4</td>\n",
       "      <td>4.857</td>\n",
       "      <td>5191.0</td>\n",
       "      <td>0.781831</td>\n",
       "      <td>...</td>\n",
       "      <td>0</td>\n",
       "      <td>1</td>\n",
       "      <td>0</td>\n",
       "      <td>1</td>\n",
       "      <td>0</td>\n",
       "      <td>0</td>\n",
       "      <td>1</td>\n",
       "      <td>1</td>\n",
       "      <td>0</td>\n",
       "      <td>1</td>\n",
       "    </tr>\n",
       "    <tr>\n",
       "      <th>20999</th>\n",
       "      <td>56</td>\n",
       "      <td>2</td>\n",
       "      <td>366</td>\n",
       "      <td>1</td>\n",
       "      <td>1.4</td>\n",
       "      <td>93.444</td>\n",
       "      <td>-36.1</td>\n",
       "      <td>4.964</td>\n",
       "      <td>5228.1</td>\n",
       "      <td>-0.433884</td>\n",
       "      <td>...</td>\n",
       "      <td>0</td>\n",
       "      <td>1</td>\n",
       "      <td>0</td>\n",
       "      <td>1</td>\n",
       "      <td>0</td>\n",
       "      <td>0</td>\n",
       "      <td>1</td>\n",
       "      <td>1</td>\n",
       "      <td>0</td>\n",
       "      <td>0</td>\n",
       "    </tr>\n",
       "    <tr>\n",
       "      <th>24505</th>\n",
       "      <td>46</td>\n",
       "      <td>5</td>\n",
       "      <td>76</td>\n",
       "      <td>3</td>\n",
       "      <td>-0.1</td>\n",
       "      <td>93.200</td>\n",
       "      <td>-42.0</td>\n",
       "      <td>4.191</td>\n",
       "      <td>5195.8</td>\n",
       "      <td>0.781831</td>\n",
       "      <td>...</td>\n",
       "      <td>0</td>\n",
       "      <td>1</td>\n",
       "      <td>0</td>\n",
       "      <td>0</td>\n",
       "      <td>0</td>\n",
       "      <td>1</td>\n",
       "      <td>0</td>\n",
       "      <td>1</td>\n",
       "      <td>0</td>\n",
       "      <td>0</td>\n",
       "    </tr>\n",
       "    <tr>\n",
       "      <th>9191</th>\n",
       "      <td>35</td>\n",
       "      <td>7</td>\n",
       "      <td>360</td>\n",
       "      <td>2</td>\n",
       "      <td>1.4</td>\n",
       "      <td>94.465</td>\n",
       "      <td>-41.8</td>\n",
       "      <td>4.967</td>\n",
       "      <td>5228.1</td>\n",
       "      <td>-0.974928</td>\n",
       "      <td>...</td>\n",
       "      <td>0</td>\n",
       "      <td>1</td>\n",
       "      <td>0</td>\n",
       "      <td>1</td>\n",
       "      <td>0</td>\n",
       "      <td>1</td>\n",
       "      <td>0</td>\n",
       "      <td>1</td>\n",
       "      <td>0</td>\n",
       "      <td>1</td>\n",
       "    </tr>\n",
       "  </tbody>\n",
       "</table>\n",
       "<p>5 rows × 34 columns</p>\n",
       "</div>"
      ],
      "text/plain": [
       "       age  education  duration  campaign  emp.var.rate  cons.price.idx  \\\n",
       "22762   45          6       112         2           1.4          93.444   \n",
       "5889    52          2       253         2           1.1          93.994   \n",
       "20999   56          2       366         1           1.4          93.444   \n",
       "24505   46          5        76         3          -0.1          93.200   \n",
       "9191    35          7       360         2           1.4          94.465   \n",
       "\n",
       "       cons.conf.idx  euribor3m  nr.employed   day_sin  ...  marital_divorced  \\\n",
       "22762          -36.1      4.965       5228.1  0.781831  ...                 1   \n",
       "5889           -36.4      4.857       5191.0  0.781831  ...                 0   \n",
       "20999          -36.1      4.964       5228.1 -0.433884  ...                 0   \n",
       "24505          -42.0      4.191       5195.8  0.781831  ...                 0   \n",
       "9191           -41.8      4.967       5228.1 -0.974928  ...                 0   \n",
       "\n",
       "       marital_married  marital_single  default_no  default_yes  housing_no  \\\n",
       "22762                0               0           1            0           0   \n",
       "5889                 1               0           1            0           0   \n",
       "20999                1               0           1            0           0   \n",
       "24505                1               0           0            0           1   \n",
       "9191                 1               0           1            0           1   \n",
       "\n",
       "       housing_yes  loan_no  loan_yes  contact_telephone  \n",
       "22762            1        1         0                  0  \n",
       "5889             1        1         0                  1  \n",
       "20999            1        1         0                  0  \n",
       "24505            0        1         0                  0  \n",
       "9191             0        1         0                  1  \n",
       "\n",
       "[5 rows x 34 columns]"
      ]
     },
     "execution_count": 17,
     "metadata": {},
     "output_type": "execute_result"
    }
   ],
   "source": [
    "training_features.head()"
   ]
  },
  {
   "cell_type": "code",
   "execution_count": 18,
   "metadata": {},
   "outputs": [
    {
     "name": "stdout",
     "output_type": "stream",
     "text": [
      "Training features are: <class 'numpy.ndarray'>\n",
      "Training features shape: (27595, 34)\n"
     ]
    }
   ],
   "source": [
    "from sklearn.preprocessing import StandardScaler\n",
    "\n",
    "# Scale the features\n",
    "standard_scaler=StandardScaler().fit(training_features)\n",
    "training_features=standard_scaler.transform(training_features)\n",
    "testing_features=standard_scaler.transform(testing_features)\n",
    "\n",
    "print(f'Training features are: {type(training_features)}')\n",
    "print(f'Training features shape: {training_features.shape}')"
   ]
  },
  {
   "cell_type": "markdown",
   "metadata": {},
   "source": [
    "### 2.4. Label encoding\n",
    "\n",
    "Last thing to do before we can train a model is encode our labels to a binary categorical variable."
   ]
  },
  {
   "cell_type": "code",
   "execution_count": 19,
   "metadata": {},
   "outputs": [
    {
     "name": "stdout",
     "output_type": "stream",
     "text": [
      "Training labels: [0 0 0 ... 0 0 0]\n"
     ]
    }
   ],
   "source": [
    "from sklearn.preprocessing import LabelEncoder\n",
    "\n",
    "# Last, encode the labels\n",
    "label_encoder=LabelEncoder().fit(training_labels)\n",
    "training_labels=label_encoder.transform(training_labels)\n",
    "testing_labels=label_encoder.transform(testing_labels)\n",
    "\n",
    "print(f'Training labels: {training_labels}')"
   ]
  },
  {
   "cell_type": "markdown",
   "metadata": {},
   "source": [
    "## 3. Classifier optimization\n",
    "\n",
    "Let's start with the off-the-shelf *LogisticRegression* from scikit-learn and see how it does. This will be our baseline of comparison to determine if anything we are doing to optimize it is having a real effect. Take a look a the official [documentation](https://scikit-learn.org/1.5/modules/generated/sklearn.linear_model.LogisticRegression.html), this is always the primary source for information about what a class, method, or functions does and how to use it.\n",
    "\n",
    "### 3.1. Naive scikit-learn *LogisticRegression*"
   ]
  },
  {
   "cell_type": "code",
   "execution_count": 20,
   "metadata": {},
   "outputs": [
    {
     "name": "stdout",
     "output_type": "stream",
     "text": [
      "Model is 90.8% accurate on the training data.\n"
     ]
    }
   ],
   "source": [
    "from sklearn.linear_model import LogisticRegression\n",
    "from sklearn.metrics import accuracy_score\n",
    "\n",
    "# Train the model on the training data\n",
    "base_model=LogisticRegression(random_state=random_seed)\n",
    "base_model.fit(training_features, training_labels)\n",
    "\n",
    "# Make predictions\n",
    "base_training_predictions=base_model.predict(training_features)\n",
    "\n",
    "# Score for accuracy\n",
    "percent_accuracy=accuracy_score(training_labels, base_training_predictions) * 100\n",
    "print(f'Model is {percent_accuracy:.1f}% accurate on the training data.')"
   ]
  },
  {
   "cell_type": "markdown",
   "metadata": {},
   "source": [
    "OK, it's a start - a few things to note:\n",
    "\n",
    "1. The 'real' performance on the test set will likely not be this good.\n",
    "2. The model is not guessing 'no' all the time - this is a good thing, it means we are accomplishing something.\n",
    "\n",
    "How do I know #2? The training data is 88.8% 'no' examples, labeling everything 'no' would be correct 88.8% of the time:"
   ]
  },
  {
   "cell_type": "code",
   "execution_count": 21,
   "metadata": {},
   "outputs": [
    {
     "name": "stdout",
     "output_type": "stream",
     "text": [
      "Data is 88.9% \"no\"\n"
     ]
    }
   ],
   "source": [
    "print(f'Data is {float(1 - (sum(training_labels) / len(training_labels))) * 100:.1f}% \"no\"')"
   ]
  },
  {
   "cell_type": "markdown",
   "metadata": {},
   "source": [
    "### 3.2. Class weighted scikit-learn *LogisticRegression*\n",
    "\n",
    "First optimization to with an unbalanced classification problem is to weigtht the classes. Doing so tells the model to give more importance to examples from the minor class. Once again scikit-learn has this built in - set the *class_weight* argument to *balanced*."
   ]
  },
  {
   "cell_type": "code",
   "execution_count": 22,
   "metadata": {},
   "outputs": [
    {
     "name": "stdout",
     "output_type": "stream",
     "text": [
      "Model is 85.1% accurate on the training data.\n"
     ]
    }
   ],
   "source": [
    "# Train the model\n",
    "weighted_model=LogisticRegression(random_state=random_seed, class_weight='balanced')\n",
    "weighted_model.fit(training_features, training_labels)\n",
    "\n",
    "# Make predictions\n",
    "weighted_training_predictions=weighted_model.predict(training_features)\n",
    "\n",
    "# Score for accuracy\n",
    "percent_accuracy=accuracy_score(training_labels, weighted_training_predictions) * 100\n",
    "print(f'Model is {percent_accuracy:.1f}% accurate on the training data.')"
   ]
  },
  {
   "cell_type": "markdown",
   "metadata": {},
   "source": [
    "- **Question**: OK, wait - hang on - the accuracy went down?\n",
    "- **Answer**: Yes! But this is actually a better result!\n",
    "\n",
    "## 4. What? A note about interpretation & classification accuracy\n",
    "\n",
    "Accuracy is often a terrible metric for classification performance. To see why, let's think about this data problem for a minute. Why are we building this classifier anyways? A likely business use case for this type of model is targeting sales & advertising spend. We don't want to waste a bunch of time and money calling people who aren't going to take out a deposit. There are much better metrics for this type of situation. To build some intuition about why accuracy is not great for this task, let's imagine a hypothetical scenario and see what effect our models have on the bank's bottom line."
   ]
  },
  {
   "cell_type": "code",
   "execution_count": 23,
   "metadata": {},
   "outputs": [
    {
     "data": {
      "image/png": "[encoded data removed]",
      "text/plain": [
       "<Figure size 640x480 with 1 Axes>"
      ]
     },
     "metadata": {},
     "output_type": "display_data"
    }
   ],
   "source": [
    "import matplotlib.pyplot as plt\n",
    "from helper_functions.logistic_regression import calculate_cashflow\n",
    "\n",
    "# Made up number for how much it costs to call one customer\n",
    "# to advertise the deposit\n",
    "cost_to_call_customer=10\n",
    "\n",
    "# Made up number for how much money we get from each deposit we sell\n",
    "return_on_deposit=100\n",
    "\n",
    "# Run our toy example\n",
    "results, models=calculate_cashflow(\n",
    "    training_features,\n",
    "    training_labels,\n",
    "    base_training_predictions,\n",
    "    weighted_training_predictions,\n",
    "    cost_to_call_customer,\n",
    "    return_on_deposit\n",
    ")\n",
    "\n",
    "# Plot the results\n",
    "bottom=np.zeros(3)\n",
    "width=0.6\n",
    "\n",
    "# Plot the portion of total income that is profit and expense\n",
    "for var, value in results.items():\n",
    "    p=plt.bar(models, value, width, label=var, bottom=bottom)\n",
    "    bottom += value\n",
    "\n",
    "    plt.bar_label(p, label_type='center')\n",
    "\n",
    "plt.title('Cashflow breakdown by model')\n",
    "plt.ylabel('Dollars')\n",
    "plt.legend()\n",
    "plt.show()"
   ]
  },
  {
   "cell_type": "markdown",
   "metadata": {},
   "source": [
    "You just earned the company an additional ~$170,000 on the next marketing campaign. This is why being a good data scientist is well paying job. When you see 'extract insight from data' or 'translate data into business impact' in a job call, this kind of thing is what they are talking about.\n",
    "\n",
    "- **Question**: So, what happened? What is going on - how can the weighted model be so much better if the 'accuracy' went down?\n",
    "- **Answer**: To understand why accuracy fails in this scenario, realize that there are two ways to be 'right' and two ways to be 'wrong' and they are not the same! Accuracy lumps them together.\n",
    "\n",
    "The relevant data science terms here are:\n",
    "\n",
    "**'Ways to be right'**:\n",
    "1. <ins>True positives</ins>: number of positive examples correctly classified as positive (people we predicted would take the deposit that actually did)\n",
    "2. <ins>True negatives</ins>: number of negative examples correctly classified as negative (people we predicted would not take the deposit that didn't take it)\n",
    "\n",
    "**'Ways to be wrong'**:\n",
    "1. <ins>False positives</ins>: number of negative examples incorrectly classified as positive (number of people we predicted would take the deposit who didn't take it)\n",
    "2. <ins>False negatives</ins>: number of positive examples incorrectly classified as negative (number of people we predicted would not take the deposit who did take it)\n",
    "\n",
    "With no model at all, it is pretty obvious that we are spending way too much money making a lot of calls to people who aren't taking deposits. To understand what is going on with the base vs weighted model, take a look at the confusion matrices:"
   ]
  },
  {
   "cell_type": "code",
   "execution_count": 24,
   "metadata": {},
   "outputs": [
    {
     "data": {
      "image/png": "[encoded data removed]",
      "text/plain": [
       "<Figure size 800x400 with 4 Axes>"
      ]
     },
     "metadata": {},
     "output_type": "display_data"
    },
    {
     "name": "stdout",
     "output_type": "stream",
     "text": [
      "Model base model is 90.8% accurate on the training data.\n",
      "Model weighted model is 85.1% accurate on the weighted data.\n"
     ]
    }
   ],
   "source": [
    "from sklearn.metrics import ConfusionMatrixDisplay\n",
    "\n",
    "# Set-up two subplots for the training and testing confusion matrices\n",
    "fig, axes = plt.subplots(1, 2, figsize=(8, 4), sharey=True)\n",
    "\n",
    "# Set the figure and individual plot titles\n",
    "fig.suptitle('Classifier performance: did customer take deposit?', fontsize=16)\n",
    "axes[0].set_title('Base model')\n",
    "axes[1].set_title('Weighted model')\n",
    "\n",
    "# Plot the training data performance\n",
    "_=ConfusionMatrixDisplay.from_estimator(\n",
    "    estimator=base_model,\n",
    "    X=training_features,\n",
    "    y=training_labels,\n",
    "    display_labels=label_encoder.classes_,\n",
    "    #normalize='all',\n",
    "    ax=axes[0]\n",
    ")\n",
    "\n",
    "# Plot the testing data performance\n",
    "_=ConfusionMatrixDisplay.from_estimator(\n",
    "    estimator=weighted_model,\n",
    "    X=training_features,\n",
    "    y=training_labels,\n",
    "    display_labels=label_encoder.classes_,\n",
    "    #normalize='all',\n",
    "    ax=axes[1]\n",
    ")\n",
    "\n",
    "plt.show()\n",
    "\n",
    "base_training_predictions=base_model.predict(training_features)\n",
    "percent_accuracy=accuracy_score(training_labels, base_training_predictions) * 100\n",
    "print(f'Model base model is {percent_accuracy:.1f}% accurate on the training data.')\n",
    "\n",
    "weighted_training_predictions=weighted_model.predict(training_features)\n",
    "percent_accuracy=accuracy_score(training_labels, weighted_training_predictions) * 100\n",
    "print(f'Model weighted model is {percent_accuracy:.1f}% accurate on the weighted data.')"
   ]
  },
  {
   "cell_type": "markdown",
   "metadata": {},
   "source": [
    "The base model is more conservative with it's predictions overall - it predicts 'yes' less often. In doing so, it makes fewer incorrect predictions, resulting it a higher overall accuracy. But, it predicts 'no' when it should have predicted 'yes' more often than the weighted model does. Therefore it misses out on a lot of revenue! The weighted model is more aggressive. It predicts 'yes' much more often overall and gets a lower 'accuracy' score. But, because the revenue from a deposit is greater than the cost to call the customer, it performs better by missing fewer sales than the base model.\n",
    "\n",
    "This is a common type of scenario, where the true costs of the error types are not equal. Similarly, the benefits of the correct prediction types may also not be equal. For this reason, it is always a good idea to look at a confusion matrix when evaluating a classification model.\n",
    "\n",
    "## 5. Classification loss: binary cross-entropy\n",
    "\n",
    "So how can we tell that the weighted model is 'better' than the base model without the complicated example or looking at a plot? If we are doing, for example, automated hyperparameter optimization, it's nice to have a single number we can directly compare. There are many options for this type of thing - but one in particular that is useful in this case is the Matthews correlation coefficient. It does a much better job of taking true and false negative and positives into account than accuracy alone:"
   ]
  },
  {
   "cell_type": "code",
   "execution_count": 25,
   "metadata": {},
   "outputs": [
    {
     "name": "stdout",
     "output_type": "stream",
     "text": [
      "Base model Mathews correlation: 0.452\n",
      "Weighted Mathews correlation: 0.535\n"
     ]
    }
   ],
   "source": [
    "from sklearn.metrics import matthews_corrcoef\n",
    "\n",
    "base_mcc=matthews_corrcoef(training_labels, base_training_predictions)\n",
    "weighted_mcc=matthews_corrcoef(training_labels, weighted_training_predictions)\n",
    "\n",
    "print(f'Base model Mathews correlation: {base_mcc:.3f}')\n",
    "print(f'Weighted Mathews correlation: {weighted_mcc:.3f}')"
   ]
  },
  {
   "cell_type": "markdown",
   "metadata": {},
   "source": [
    "Better - now we can tell that our weighted model is doing a better job of capturing what is going on in the dataset in a way that reflects our goal. There are many, many other metrics for all sorts of classification problems. The [Scikit-learn documentation](https://scikit-learn.org/stable/modules/model_evaluation.html#classification-metrics) is a great place to start if you are interested to know what is out there beyond simple 'accuracy'."
   ]
  }
 ],
 "metadata": {
  "kernelspec": {
   "display_name": ".venv",
   "language": "python",
   "name": "python3"
  },
  "language_info": {
   "codemirror_mode": {
    "name": "ipython",
    "version": 3
   },
   "file_extension": ".py",
   "mimetype": "text/x-python",
   "name": "python",
   "nbconvert_exporter": "python",
   "pygments_lexer": "ipython3",
   "version": "3.10.15"
  },
  "orig_nbformat": 4
 },
 "nbformat": 4,
 "nbformat_minor": 2
}
